{
 "cells": [
  {
   "cell_type": "markdown",
   "metadata": {},
   "source": [
    "# Recommendations with IBM\n",
    "\n",
    "In this notebook, you will be putting your recommendation skills to use on real data from the IBM Watson Studio platform. \n",
    "\n",
    "\n",
    "You may either submit your notebook through the workspace here, or you may work from your local machine and submit through the next page.  Either way assure that your code passes the project [RUBRIC](https://review.udacity.com/#!/rubrics/2322/view).  **Please save regularly.**\n",
    "\n",
    "By following the table of contents, you will build out a number of different methods for making recommendations that can be used for different situations. \n",
    "\n",
    "\n",
    "## Table of Contents\n",
    "\n",
    "I. [Exploratory Data Analysis](#Exploratory-Data-Analysis)<br>\n",
    "II. [Rank Based Recommendations](#Rank)<br>\n",
    "III. [User-User Based Collaborative Filtering](#User-User)<br>\n",
    "IV. [Content Based Recommendations (EXTRA - NOT REQUIRED)](#Content-Recs)<br>\n",
    "V. [Matrix Factorization](#Matrix-Fact)<br>\n",
    "VI. [Extras & Concluding](#conclusions)\n",
    "\n",
    "At the end of the notebook, you will find directions for how to submit your work.  Let's get started by importing the necessary libraries and reading in the data."
   ]
  },
  {
   "cell_type": "code",
   "execution_count": 10,
   "metadata": {},
   "outputs": [
    {
     "data": {
      "text/html": [
       "<div>\n",
       "<style scoped>\n",
       "    .dataframe tbody tr th:only-of-type {\n",
       "        vertical-align: middle;\n",
       "    }\n",
       "\n",
       "    .dataframe tbody tr th {\n",
       "        vertical-align: top;\n",
       "    }\n",
       "\n",
       "    .dataframe thead th {\n",
       "        text-align: right;\n",
       "    }\n",
       "</style>\n",
       "<table border=\"1\" class=\"dataframe\">\n",
       "  <thead>\n",
       "    <tr style=\"text-align: right;\">\n",
       "      <th></th>\n",
       "      <th>article_id</th>\n",
       "      <th>title</th>\n",
       "      <th>email</th>\n",
       "    </tr>\n",
       "  </thead>\n",
       "  <tbody>\n",
       "    <tr>\n",
       "      <th>0</th>\n",
       "      <td>1430.0</td>\n",
       "      <td>using pixiedust for fast, flexible, and easier...</td>\n",
       "      <td>ef5f11f77ba020cd36e1105a00ab868bbdbf7fe7</td>\n",
       "    </tr>\n",
       "    <tr>\n",
       "      <th>1</th>\n",
       "      <td>1314.0</td>\n",
       "      <td>healthcare python streaming application demo</td>\n",
       "      <td>083cbdfa93c8444beaa4c5f5e0f5f9198e4f9e0b</td>\n",
       "    </tr>\n",
       "    <tr>\n",
       "      <th>2</th>\n",
       "      <td>1429.0</td>\n",
       "      <td>use deep learning for image classification</td>\n",
       "      <td>b96a4f2e92d8572034b1e9b28f9ac673765cd074</td>\n",
       "    </tr>\n",
       "    <tr>\n",
       "      <th>3</th>\n",
       "      <td>1338.0</td>\n",
       "      <td>ml optimization using cognitive assistant</td>\n",
       "      <td>06485706b34a5c9bf2a0ecdac41daf7e7654ceb7</td>\n",
       "    </tr>\n",
       "    <tr>\n",
       "      <th>4</th>\n",
       "      <td>1276.0</td>\n",
       "      <td>deploy your python model as a restful api</td>\n",
       "      <td>f01220c46fc92c6e6b161b1849de11faacd7ccb2</td>\n",
       "    </tr>\n",
       "  </tbody>\n",
       "</table>\n",
       "</div>"
      ],
      "text/plain": [
       "   article_id                                              title  \\\n",
       "0      1430.0  using pixiedust for fast, flexible, and easier...   \n",
       "1      1314.0       healthcare python streaming application demo   \n",
       "2      1429.0         use deep learning for image classification   \n",
       "3      1338.0          ml optimization using cognitive assistant   \n",
       "4      1276.0          deploy your python model as a restful api   \n",
       "\n",
       "                                      email  \n",
       "0  ef5f11f77ba020cd36e1105a00ab868bbdbf7fe7  \n",
       "1  083cbdfa93c8444beaa4c5f5e0f5f9198e4f9e0b  \n",
       "2  b96a4f2e92d8572034b1e9b28f9ac673765cd074  \n",
       "3  06485706b34a5c9bf2a0ecdac41daf7e7654ceb7  \n",
       "4  f01220c46fc92c6e6b161b1849de11faacd7ccb2  "
      ]
     },
     "execution_count": 10,
     "metadata": {},
     "output_type": "execute_result"
    }
   ],
   "source": [
    "import pandas as pd\n",
    "import numpy as np\n",
    "import matplotlib.pyplot as plt\n",
    "import project_tests as t\n",
    "import pickle\n",
    "\n",
    "%matplotlib inline\n",
    "\n",
    "df = pd.read_csv('data/user-item-interactions.csv')\n",
    "df_content = pd.read_csv('data/articles_community.csv')\n",
    "del df['Unnamed: 0']\n",
    "del df_content['Unnamed: 0']\n",
    "\n",
    "# Show df to get an idea of the data\n",
    "df.head()"
   ]
  },
  {
   "cell_type": "code",
   "execution_count": 11,
   "metadata": {},
   "outputs": [
    {
     "data": {
      "text/html": [
       "<div>\n",
       "<style scoped>\n",
       "    .dataframe tbody tr th:only-of-type {\n",
       "        vertical-align: middle;\n",
       "    }\n",
       "\n",
       "    .dataframe tbody tr th {\n",
       "        vertical-align: top;\n",
       "    }\n",
       "\n",
       "    .dataframe thead th {\n",
       "        text-align: right;\n",
       "    }\n",
       "</style>\n",
       "<table border=\"1\" class=\"dataframe\">\n",
       "  <thead>\n",
       "    <tr style=\"text-align: right;\">\n",
       "      <th></th>\n",
       "      <th>article_id</th>\n",
       "      <th>title</th>\n",
       "      <th>email</th>\n",
       "    </tr>\n",
       "  </thead>\n",
       "  <tbody>\n",
       "    <tr>\n",
       "      <th>12456</th>\n",
       "      <td>109.0</td>\n",
       "      <td>tensorflow quick tips</td>\n",
       "      <td>e8896f71f5be82237f12c4f0d518b34f752ea410</td>\n",
       "    </tr>\n",
       "    <tr>\n",
       "      <th>9166</th>\n",
       "      <td>162.0</td>\n",
       "      <td>an introduction to stock market data analysis ...</td>\n",
       "      <td>f49d85513af8b2b7bcc31c8c02a3855e5c3226ac</td>\n",
       "    </tr>\n",
       "    <tr>\n",
       "      <th>11108</th>\n",
       "      <td>943.0</td>\n",
       "      <td>discover hidden facebook usage insights</td>\n",
       "      <td>f946db70babe252d0a5dc2056465aa295fe97baa</td>\n",
       "    </tr>\n",
       "    <tr>\n",
       "      <th>3643</th>\n",
       "      <td>1436.0</td>\n",
       "      <td>welcome to pixiedust</td>\n",
       "      <td>11304ae794b552e6c929654daaea245e5b57f03b</td>\n",
       "    </tr>\n",
       "    <tr>\n",
       "      <th>21868</th>\n",
       "      <td>390.0</td>\n",
       "      <td>introducing ibm watson studio</td>\n",
       "      <td>aa5b878a4cbf2763adfc793f356f012b7aa92c23</td>\n",
       "    </tr>\n",
       "    <tr>\n",
       "      <th>16300</th>\n",
       "      <td>1338.0</td>\n",
       "      <td>ml optimization using cognitive assistant</td>\n",
       "      <td>d9032ff68d0fd45dfd18c0c5f7324619bb55362c</td>\n",
       "    </tr>\n",
       "    <tr>\n",
       "      <th>32163</th>\n",
       "      <td>1394.0</td>\n",
       "      <td>the nurse assignment problem data</td>\n",
       "      <td>08c47a875a7bae9622f6c7363487feb3ef05b101</td>\n",
       "    </tr>\n",
       "    <tr>\n",
       "      <th>25268</th>\n",
       "      <td>1293.0</td>\n",
       "      <td>finding optimal locations of new store using d...</td>\n",
       "      <td>60c424d25bea46b7144c9ebca16f4dd0a62bd9b9</td>\n",
       "    </tr>\n",
       "    <tr>\n",
       "      <th>7536</th>\n",
       "      <td>1164.0</td>\n",
       "      <td>analyze open data sets with pandas dataframes</td>\n",
       "      <td>e21e751e2bdec20173a1edb5b86c38b12f05d5bc</td>\n",
       "    </tr>\n",
       "    <tr>\n",
       "      <th>28905</th>\n",
       "      <td>1357.0</td>\n",
       "      <td>overlapping co-cluster recommendation algorith...</td>\n",
       "      <td>980192295cc4ff22346ef85e8391396adfeea701</td>\n",
       "    </tr>\n",
       "  </tbody>\n",
       "</table>\n",
       "</div>"
      ],
      "text/plain": [
       "       article_id                                              title  \\\n",
       "12456       109.0                              tensorflow quick tips   \n",
       "9166        162.0  an introduction to stock market data analysis ...   \n",
       "11108       943.0            discover hidden facebook usage insights   \n",
       "3643       1436.0                               welcome to pixiedust   \n",
       "21868       390.0                     introducing ibm watson studio    \n",
       "16300      1338.0          ml optimization using cognitive assistant   \n",
       "32163      1394.0                  the nurse assignment problem data   \n",
       "25268      1293.0  finding optimal locations of new store using d...   \n",
       "7536       1164.0      analyze open data sets with pandas dataframes   \n",
       "28905      1357.0  overlapping co-cluster recommendation algorith...   \n",
       "\n",
       "                                          email  \n",
       "12456  e8896f71f5be82237f12c4f0d518b34f752ea410  \n",
       "9166   f49d85513af8b2b7bcc31c8c02a3855e5c3226ac  \n",
       "11108  f946db70babe252d0a5dc2056465aa295fe97baa  \n",
       "3643   11304ae794b552e6c929654daaea245e5b57f03b  \n",
       "21868  aa5b878a4cbf2763adfc793f356f012b7aa92c23  \n",
       "16300  d9032ff68d0fd45dfd18c0c5f7324619bb55362c  \n",
       "32163  08c47a875a7bae9622f6c7363487feb3ef05b101  \n",
       "25268  60c424d25bea46b7144c9ebca16f4dd0a62bd9b9  \n",
       "7536   e21e751e2bdec20173a1edb5b86c38b12f05d5bc  \n",
       "28905  980192295cc4ff22346ef85e8391396adfeea701  "
      ]
     },
     "execution_count": 11,
     "metadata": {},
     "output_type": "execute_result"
    }
   ],
   "source": [
    "df.sample(10)"
   ]
  },
  {
   "cell_type": "code",
   "execution_count": 12,
   "metadata": {},
   "outputs": [
    {
     "data": {
      "text/html": [
       "<div>\n",
       "<style scoped>\n",
       "    .dataframe tbody tr th:only-of-type {\n",
       "        vertical-align: middle;\n",
       "    }\n",
       "\n",
       "    .dataframe tbody tr th {\n",
       "        vertical-align: top;\n",
       "    }\n",
       "\n",
       "    .dataframe thead th {\n",
       "        text-align: right;\n",
       "    }\n",
       "</style>\n",
       "<table border=\"1\" class=\"dataframe\">\n",
       "  <thead>\n",
       "    <tr style=\"text-align: right;\">\n",
       "      <th></th>\n",
       "      <th>doc_body</th>\n",
       "      <th>doc_description</th>\n",
       "      <th>doc_full_name</th>\n",
       "      <th>doc_status</th>\n",
       "      <th>article_id</th>\n",
       "    </tr>\n",
       "  </thead>\n",
       "  <tbody>\n",
       "    <tr>\n",
       "      <th>0</th>\n",
       "      <td>Skip navigation Sign in SearchLoading...\\r\\n\\r...</td>\n",
       "      <td>Detect bad readings in real time using Python ...</td>\n",
       "      <td>Detect Malfunctioning IoT Sensors with Streami...</td>\n",
       "      <td>Live</td>\n",
       "      <td>0</td>\n",
       "    </tr>\n",
       "    <tr>\n",
       "      <th>1</th>\n",
       "      <td>No Free Hunch Navigation * kaggle.com\\r\\n\\r\\n ...</td>\n",
       "      <td>See the forest, see the trees. Here lies the c...</td>\n",
       "      <td>Communicating data science: A guide to present...</td>\n",
       "      <td>Live</td>\n",
       "      <td>1</td>\n",
       "    </tr>\n",
       "    <tr>\n",
       "      <th>2</th>\n",
       "      <td>☰ * Login\\r\\n * Sign Up\\r\\n\\r\\n * Learning Pat...</td>\n",
       "      <td>Here’s this week’s news in Data Science and Bi...</td>\n",
       "      <td>This Week in Data Science (April 18, 2017)</td>\n",
       "      <td>Live</td>\n",
       "      <td>2</td>\n",
       "    </tr>\n",
       "    <tr>\n",
       "      <th>3</th>\n",
       "      <td>DATALAYER: HIGH THROUGHPUT, LOW LATENCY AT SCA...</td>\n",
       "      <td>Learn how distributed DBs solve the problem of...</td>\n",
       "      <td>DataLayer Conference: Boost the performance of...</td>\n",
       "      <td>Live</td>\n",
       "      <td>3</td>\n",
       "    </tr>\n",
       "    <tr>\n",
       "      <th>4</th>\n",
       "      <td>Skip navigation Sign in SearchLoading...\\r\\n\\r...</td>\n",
       "      <td>This video demonstrates the power of IBM DataS...</td>\n",
       "      <td>Analyze NY Restaurant data using Spark in DSX</td>\n",
       "      <td>Live</td>\n",
       "      <td>4</td>\n",
       "    </tr>\n",
       "  </tbody>\n",
       "</table>\n",
       "</div>"
      ],
      "text/plain": [
       "                                            doc_body  \\\n",
       "0  Skip navigation Sign in SearchLoading...\\r\\n\\r...   \n",
       "1  No Free Hunch Navigation * kaggle.com\\r\\n\\r\\n ...   \n",
       "2  ☰ * Login\\r\\n * Sign Up\\r\\n\\r\\n * Learning Pat...   \n",
       "3  DATALAYER: HIGH THROUGHPUT, LOW LATENCY AT SCA...   \n",
       "4  Skip navigation Sign in SearchLoading...\\r\\n\\r...   \n",
       "\n",
       "                                     doc_description  \\\n",
       "0  Detect bad readings in real time using Python ...   \n",
       "1  See the forest, see the trees. Here lies the c...   \n",
       "2  Here’s this week’s news in Data Science and Bi...   \n",
       "3  Learn how distributed DBs solve the problem of...   \n",
       "4  This video demonstrates the power of IBM DataS...   \n",
       "\n",
       "                                       doc_full_name doc_status  article_id  \n",
       "0  Detect Malfunctioning IoT Sensors with Streami...       Live           0  \n",
       "1  Communicating data science: A guide to present...       Live           1  \n",
       "2         This Week in Data Science (April 18, 2017)       Live           2  \n",
       "3  DataLayer Conference: Boost the performance of...       Live           3  \n",
       "4      Analyze NY Restaurant data using Spark in DSX       Live           4  "
      ]
     },
     "execution_count": 12,
     "metadata": {},
     "output_type": "execute_result"
    }
   ],
   "source": [
    "# Show df_content to get an idea of the data\n",
    "df_content.head()"
   ]
  },
  {
   "cell_type": "code",
   "execution_count": 13,
   "metadata": {},
   "outputs": [
    {
     "data": {
      "text/html": [
       "<div>\n",
       "<style scoped>\n",
       "    .dataframe tbody tr th:only-of-type {\n",
       "        vertical-align: middle;\n",
       "    }\n",
       "\n",
       "    .dataframe tbody tr th {\n",
       "        vertical-align: top;\n",
       "    }\n",
       "\n",
       "    .dataframe thead th {\n",
       "        text-align: right;\n",
       "    }\n",
       "</style>\n",
       "<table border=\"1\" class=\"dataframe\">\n",
       "  <thead>\n",
       "    <tr style=\"text-align: right;\">\n",
       "      <th></th>\n",
       "      <th>doc_body</th>\n",
       "      <th>doc_description</th>\n",
       "      <th>doc_full_name</th>\n",
       "      <th>doc_status</th>\n",
       "      <th>article_id</th>\n",
       "    </tr>\n",
       "  </thead>\n",
       "  <tbody>\n",
       "    <tr>\n",
       "      <th>355</th>\n",
       "      <td>Skip navigation Sign in SearchLoading...\\r\\n\\r...</td>\n",
       "      <td>This video shows you how to analyze data with ...</td>\n",
       "      <td>Run Shiny Applications in RStudio in DSX</td>\n",
       "      <td>Live</td>\n",
       "      <td>355</td>\n",
       "    </tr>\n",
       "    <tr>\n",
       "      <th>1007</th>\n",
       "      <td>Compose The Compose logo Articles Sign in Free...</td>\n",
       "      <td>A data browser, nodetool/JMX access and a vers...</td>\n",
       "      <td>New features for Compose's ScyllaDB</td>\n",
       "      <td>Live</td>\n",
       "      <td>1002</td>\n",
       "    </tr>\n",
       "    <tr>\n",
       "      <th>307</th>\n",
       "      <td>DATALAYER CONFERENCE: AMBRY AT LINKEDIN\\r\\nSha...</td>\n",
       "      <td>At DataLayer Conference, Compose welcomed Siva...</td>\n",
       "      <td>DataLayer Conference: Ambry at LinkedIn</td>\n",
       "      <td>Live</td>\n",
       "      <td>307</td>\n",
       "    </tr>\n",
       "    <tr>\n",
       "      <th>1002</th>\n",
       "      <td>Skip to main content IBM developerWorks / Deve...</td>\n",
       "      <td>One of the best things about Apache Spark is t...</td>\n",
       "      <td>Apache Spark: Upgrade and speed-up your analytics</td>\n",
       "      <td>Live</td>\n",
       "      <td>997</td>\n",
       "    </tr>\n",
       "    <tr>\n",
       "      <th>645</th>\n",
       "      <td>Skip navigation Sign in SearchLoading...\\r\\n\\r...</td>\n",
       "      <td>Get started building machine learning models w...</td>\n",
       "      <td>H2O With IBM's Data Science Experience (DSX)</td>\n",
       "      <td>Live</td>\n",
       "      <td>644</td>\n",
       "    </tr>\n",
       "    <tr>\n",
       "      <th>625</th>\n",
       "      <td>Recently we partnered with Cloudbees to delive...</td>\n",
       "      <td>Developers coming to Cloudant from an SQL back...</td>\n",
       "      <td>Top 6 Questions from our webinar on Top 6 Ques...</td>\n",
       "      <td>Live</td>\n",
       "      <td>624</td>\n",
       "    </tr>\n",
       "    <tr>\n",
       "      <th>545</th>\n",
       "      <td>body</td>\n",
       "      <td>The ggplot2 package lets you make beautiful an...</td>\n",
       "      <td>Data Visualization with ggplot2 Cheat Sheet</td>\n",
       "      <td>Live</td>\n",
       "      <td>544</td>\n",
       "    </tr>\n",
       "    <tr>\n",
       "      <th>315</th>\n",
       "      <td>WILL WOLF\\r\\nDATA SCIENCE THINGS AND THOUGHTS ...</td>\n",
       "      <td>Emojis are an increasingly-pervasive sub-lingu...</td>\n",
       "      <td>Neurally Embedded Emojis</td>\n",
       "      <td>Live</td>\n",
       "      <td>315</td>\n",
       "    </tr>\n",
       "    <tr>\n",
       "      <th>1010</th>\n",
       "      <td>Skip to main content IBM developerWorks / Deve...</td>\n",
       "      <td>How to implement real-time Spark streaming ana...</td>\n",
       "      <td>Real-time Sentiment Analysis of Twitter Hashta...</td>\n",
       "      <td>Live</td>\n",
       "      <td>1005</td>\n",
       "    </tr>\n",
       "    <tr>\n",
       "      <th>977</th>\n",
       "      <td>Skip navigation Sign in SearchLoading...\\r\\n\\r...</td>\n",
       "      <td>This video shows you how to create a project i...</td>\n",
       "      <td>Create a project in DSX</td>\n",
       "      <td>Live</td>\n",
       "      <td>972</td>\n",
       "    </tr>\n",
       "  </tbody>\n",
       "</table>\n",
       "</div>"
      ],
      "text/plain": [
       "                                               doc_body  \\\n",
       "355   Skip navigation Sign in SearchLoading...\\r\\n\\r...   \n",
       "1007  Compose The Compose logo Articles Sign in Free...   \n",
       "307   DATALAYER CONFERENCE: AMBRY AT LINKEDIN\\r\\nSha...   \n",
       "1002  Skip to main content IBM developerWorks / Deve...   \n",
       "645   Skip navigation Sign in SearchLoading...\\r\\n\\r...   \n",
       "625   Recently we partnered with Cloudbees to delive...   \n",
       "545                                                body   \n",
       "315   WILL WOLF\\r\\nDATA SCIENCE THINGS AND THOUGHTS ...   \n",
       "1010  Skip to main content IBM developerWorks / Deve...   \n",
       "977   Skip navigation Sign in SearchLoading...\\r\\n\\r...   \n",
       "\n",
       "                                        doc_description  \\\n",
       "355   This video shows you how to analyze data with ...   \n",
       "1007  A data browser, nodetool/JMX access and a vers...   \n",
       "307   At DataLayer Conference, Compose welcomed Siva...   \n",
       "1002  One of the best things about Apache Spark is t...   \n",
       "645   Get started building machine learning models w...   \n",
       "625   Developers coming to Cloudant from an SQL back...   \n",
       "545   The ggplot2 package lets you make beautiful an...   \n",
       "315   Emojis are an increasingly-pervasive sub-lingu...   \n",
       "1010  How to implement real-time Spark streaming ana...   \n",
       "977   This video shows you how to create a project i...   \n",
       "\n",
       "                                          doc_full_name doc_status  article_id  \n",
       "355            Run Shiny Applications in RStudio in DSX       Live         355  \n",
       "1007                New features for Compose's ScyllaDB       Live        1002  \n",
       "307             DataLayer Conference: Ambry at LinkedIn       Live         307  \n",
       "1002  Apache Spark: Upgrade and speed-up your analytics       Live         997  \n",
       "645        H2O With IBM's Data Science Experience (DSX)       Live         644  \n",
       "625   Top 6 Questions from our webinar on Top 6 Ques...       Live         624  \n",
       "545         Data Visualization with ggplot2 Cheat Sheet       Live         544  \n",
       "315                            Neurally Embedded Emojis       Live         315  \n",
       "1010  Real-time Sentiment Analysis of Twitter Hashta...       Live        1005  \n",
       "977                             Create a project in DSX       Live         972  "
      ]
     },
     "execution_count": 13,
     "metadata": {},
     "output_type": "execute_result"
    }
   ],
   "source": [
    "df_content.sample(10)"
   ]
  },
  {
   "cell_type": "markdown",
   "metadata": {},
   "source": [
    "### <a class=\"anchor\" id=\"Exploratory-Data-Analysis\">Part I : Exploratory Data Analysis</a>\n",
    "\n",
    "Use the dictionary and cells below to provide some insight into the descriptive statistics of the data.\n",
    "\n",
    "`1.` What is the distribution of how many articles a user interacts with in the dataset?  Provide a visual and descriptive statistics to assist with giving a look at the number of times each user interacts with an article.  "
   ]
  },
  {
   "cell_type": "code",
   "execution_count": 14,
   "metadata": {},
   "outputs": [
    {
     "name": "stdout",
     "output_type": "stream",
     "text": [
      "(45993, 3)\n",
      "(1056, 5)\n"
     ]
    }
   ],
   "source": [
    "print(df.shape)\n",
    "print(df_content.shape) "
   ]
  },
  {
   "cell_type": "code",
   "execution_count": 15,
   "metadata": {},
   "outputs": [
    {
     "data": {
      "text/plain": [
       "1429.0    937\n",
       "1330.0    927\n",
       "1431.0    671\n",
       "1427.0    643\n",
       "1364.0    627\n",
       "Name: article_id, dtype: int64"
      ]
     },
     "execution_count": 15,
     "metadata": {},
     "output_type": "execute_result"
    }
   ],
   "source": [
    "df['article_id'].value_counts().nlargest(5)"
   ]
  },
  {
   "cell_type": "code",
   "execution_count": 16,
   "metadata": {},
   "outputs": [
    {
     "data": {
      "text/plain": [
       "2b6c0f514c2f2b04ad3c4583407dccd0810469ee    364\n",
       "77959baaa9895a7e2bdc9297f8b27c1b6f2cb52a    363\n",
       "2f5c7feae533ce046f2cb16fb3a29fe00528ed66    170\n",
       "a37adec71b667b297ed2440a9ff7dad427c7ac85    169\n",
       "8510a5010a5d4c89f5b07baac6de80cd12cfaf93    160\n",
       "Name: email, dtype: int64"
      ]
     },
     "execution_count": 16,
     "metadata": {},
     "output_type": "execute_result"
    }
   ],
   "source": [
    "df['email'].value_counts().nlargest(5)"
   ]
  },
  {
   "cell_type": "code",
   "execution_count": 17,
   "metadata": {},
   "outputs": [
    {
     "name": "stderr",
     "output_type": "stream",
     "text": [
      "/opt/conda/lib/python3.6/site-packages/matplotlib/cbook/deprecation.py:106: MatplotlibDeprecationWarning: Adding an axes using the same arguments as a previous axes currently reuses the earlier instance.  In a future version, a new instance will always be created and returned.  Meanwhile, this warning can be suppressed, and the future behavior ensured, by passing a unique label to each axes instance.\n",
      "  warnings.warn(message, mplDeprecation, stacklevel=1)\n"
     ]
    },
    {
     "data": {
      "image/png": "[encoded data removed]",
      "text/plain": [
       "<matplotlib.figure.Figure at 0x7fca307b5fd0>"
      ]
     },
     "metadata": {
      "needs_background": "light"
     },
     "output_type": "display_data"
    }
   ],
   "source": [
    "plt_1 = df['email'].value_counts()\n",
    "plt_1.plot(kind='bar',figsize=(15,6))\n",
    "ax1 = plt.axes()\n",
    "x_axis = ax1.axes.get_xaxis()\n",
    "x_axis.set_visible(False)\n",
    "plt.show()\n",
    "plt.close();"
   ]
  },
  {
   "cell_type": "code",
   "execution_count": 18,
   "metadata": {},
   "outputs": [
    {
     "data": {
      "text/plain": [
       "3.0"
      ]
     },
     "execution_count": 18,
     "metadata": {},
     "output_type": "execute_result"
    }
   ],
   "source": [
    " df['email'].value_counts().median()"
   ]
  },
  {
   "cell_type": "code",
   "execution_count": 19,
   "metadata": {},
   "outputs": [],
   "source": [
    "df_email = df.groupby('email')"
   ]
  },
  {
   "cell_type": "code",
   "execution_count": 20,
   "metadata": {},
   "outputs": [
    {
     "data": {
      "text/html": [
       "<div>\n",
       "<style scoped>\n",
       "    .dataframe tbody tr th:only-of-type {\n",
       "        vertical-align: middle;\n",
       "    }\n",
       "\n",
       "    .dataframe tbody tr th {\n",
       "        vertical-align: top;\n",
       "    }\n",
       "\n",
       "    .dataframe thead th {\n",
       "        text-align: right;\n",
       "    }\n",
       "</style>\n",
       "<table border=\"1\" class=\"dataframe\">\n",
       "  <thead>\n",
       "    <tr style=\"text-align: right;\">\n",
       "      <th></th>\n",
       "      <th>article_id</th>\n",
       "      <th>title</th>\n",
       "      <th>email</th>\n",
       "    </tr>\n",
       "  </thead>\n",
       "  <tbody>\n",
       "    <tr>\n",
       "      <th>0</th>\n",
       "      <td>1430.0</td>\n",
       "      <td>using pixiedust for fast, flexible, and easier...</td>\n",
       "      <td>ef5f11f77ba020cd36e1105a00ab868bbdbf7fe7</td>\n",
       "    </tr>\n",
       "    <tr>\n",
       "      <th>1</th>\n",
       "      <td>1314.0</td>\n",
       "      <td>healthcare python streaming application demo</td>\n",
       "      <td>083cbdfa93c8444beaa4c5f5e0f5f9198e4f9e0b</td>\n",
       "    </tr>\n",
       "    <tr>\n",
       "      <th>2</th>\n",
       "      <td>1429.0</td>\n",
       "      <td>use deep learning for image classification</td>\n",
       "      <td>b96a4f2e92d8572034b1e9b28f9ac673765cd074</td>\n",
       "    </tr>\n",
       "    <tr>\n",
       "      <th>3</th>\n",
       "      <td>1338.0</td>\n",
       "      <td>ml optimization using cognitive assistant</td>\n",
       "      <td>06485706b34a5c9bf2a0ecdac41daf7e7654ceb7</td>\n",
       "    </tr>\n",
       "    <tr>\n",
       "      <th>4</th>\n",
       "      <td>1276.0</td>\n",
       "      <td>deploy your python model as a restful api</td>\n",
       "      <td>f01220c46fc92c6e6b161b1849de11faacd7ccb2</td>\n",
       "    </tr>\n",
       "    <tr>\n",
       "      <th>5</th>\n",
       "      <td>1432.0</td>\n",
       "      <td>visualize data with the matplotlib library</td>\n",
       "      <td>b32cd4e1a74e55ac42e4ef484b1f0ad41ee3b1c5</td>\n",
       "    </tr>\n",
       "    <tr>\n",
       "      <th>6</th>\n",
       "      <td>1429.0</td>\n",
       "      <td>use deep learning for image classification</td>\n",
       "      <td>3c2de1b0a92728aa53064a22ff7bd7319878ed95</td>\n",
       "    </tr>\n",
       "    <tr>\n",
       "      <th>7</th>\n",
       "      <td>593.0</td>\n",
       "      <td>upload files to ibm data science experience us...</td>\n",
       "      <td>3bbca9c41c66c4ecc46bc14eac7b7ab1ab0a5bea</td>\n",
       "    </tr>\n",
       "    <tr>\n",
       "      <th>8</th>\n",
       "      <td>1314.0</td>\n",
       "      <td>healthcare python streaming application demo</td>\n",
       "      <td>8b6fb4bbb7a27b336ba35420bf58337d877455c7</td>\n",
       "    </tr>\n",
       "    <tr>\n",
       "      <th>9</th>\n",
       "      <td>1185.0</td>\n",
       "      <td>classify tumors with machine learning</td>\n",
       "      <td>35d5799b6ea3ba24f921ed38f7f9a8039ad06ba4</td>\n",
       "    </tr>\n",
       "    <tr>\n",
       "      <th>10</th>\n",
       "      <td>993.0</td>\n",
       "      <td>configuring the apache spark sql context</td>\n",
       "      <td>fc4e4290f2f320d80711bbe019618cc5be8815fa</td>\n",
       "    </tr>\n",
       "    <tr>\n",
       "      <th>11</th>\n",
       "      <td>14.0</td>\n",
       "      <td>got zip code data? prep it for analytics. – ib...</td>\n",
       "      <td>de6333cc934b9b7663ea38ca7cf13d59a4baae3b</td>\n",
       "    </tr>\n",
       "    <tr>\n",
       "      <th>12</th>\n",
       "      <td>1395.0</td>\n",
       "      <td>the unit commitment problem</td>\n",
       "      <td>5e8b6eea25188b0516fc111a32daa59a4419f767</td>\n",
       "    </tr>\n",
       "    <tr>\n",
       "      <th>13</th>\n",
       "      <td>1314.0</td>\n",
       "      <td>healthcare python streaming application demo</td>\n",
       "      <td>06485706b34a5c9bf2a0ecdac41daf7e7654ceb7</td>\n",
       "    </tr>\n",
       "    <tr>\n",
       "      <th>14</th>\n",
       "      <td>1170.0</td>\n",
       "      <td>apache spark lab, part 1: basic concepts</td>\n",
       "      <td>35d5799b6ea3ba24f921ed38f7f9a8039ad06ba4</td>\n",
       "    </tr>\n",
       "    <tr>\n",
       "      <th>15</th>\n",
       "      <td>542.0</td>\n",
       "      <td>getting started with python</td>\n",
       "      <td>f44787ebd5330e097a1ee8aea81d970200e912bb</td>\n",
       "    </tr>\n",
       "    <tr>\n",
       "      <th>16</th>\n",
       "      <td>12.0</td>\n",
       "      <td>timeseries data analysis of iot events by usin...</td>\n",
       "      <td>fc4e4290f2f320d80711bbe019618cc5be8815fa</td>\n",
       "    </tr>\n",
       "    <tr>\n",
       "      <th>17</th>\n",
       "      <td>1430.0</td>\n",
       "      <td>using pixiedust for fast, flexible, and easier...</td>\n",
       "      <td>ec123f6658890db92d7db29a04c03e5e2098fa43</td>\n",
       "    </tr>\n",
       "    <tr>\n",
       "      <th>18</th>\n",
       "      <td>1338.0</td>\n",
       "      <td>ml optimization using cognitive assistant</td>\n",
       "      <td>9ac67534404850b3850c331c66e9233504ec5eaa</td>\n",
       "    </tr>\n",
       "    <tr>\n",
       "      <th>19</th>\n",
       "      <td>173.0</td>\n",
       "      <td>10 must attend data science, ml and ai confere...</td>\n",
       "      <td>011ae4de07ffb332b0f51c155a35c23c80294962</td>\n",
       "    </tr>\n",
       "    <tr>\n",
       "      <th>20</th>\n",
       "      <td>1314.0</td>\n",
       "      <td>healthcare python streaming application demo</td>\n",
       "      <td>f0d738c18e8ef4736beabea9db813cd86cc5a148</td>\n",
       "    </tr>\n",
       "    <tr>\n",
       "      <th>21</th>\n",
       "      <td>1338.0</td>\n",
       "      <td>ml optimization using cognitive assistant</td>\n",
       "      <td>737e9353c4266ccaa254acfd611024741a923842</td>\n",
       "    </tr>\n",
       "    <tr>\n",
       "      <th>22</th>\n",
       "      <td>1320.0</td>\n",
       "      <td>housing (2015): united states demographic meas...</td>\n",
       "      <td>07545b0e6624cdfb2c81a17624c9326a1371c446</td>\n",
       "    </tr>\n",
       "    <tr>\n",
       "      <th>23</th>\n",
       "      <td>1052.0</td>\n",
       "      <td>access db2 warehouse on cloud and db2 with python</td>\n",
       "      <td>f44787ebd5330e097a1ee8aea81d970200e912bb</td>\n",
       "    </tr>\n",
       "    <tr>\n",
       "      <th>24</th>\n",
       "      <td>1432.0</td>\n",
       "      <td>visualize data with the matplotlib library</td>\n",
       "      <td>f0d738c18e8ef4736beabea9db813cd86cc5a148</td>\n",
       "    </tr>\n",
       "    <tr>\n",
       "      <th>25</th>\n",
       "      <td>1393.0</td>\n",
       "      <td>the nurse assignment problem</td>\n",
       "      <td>8dc8d7ec2356b1b106eb3d723f3c234e03ab3f1e</td>\n",
       "    </tr>\n",
       "    <tr>\n",
       "      <th>26</th>\n",
       "      <td>1338.0</td>\n",
       "      <td>ml optimization using cognitive assistant</td>\n",
       "      <td>b32cd4e1a74e55ac42e4ef484b1f0ad41ee3b1c5</td>\n",
       "    </tr>\n",
       "    <tr>\n",
       "      <th>27</th>\n",
       "      <td>593.0</td>\n",
       "      <td>upload files to ibm data science experience us...</td>\n",
       "      <td>b6926a8fa3ece411773bfba65c455fb15df4d6c6</td>\n",
       "    </tr>\n",
       "    <tr>\n",
       "      <th>28</th>\n",
       "      <td>362.0</td>\n",
       "      <td>dsx: hybrid mode</td>\n",
       "      <td>2b6c0f514c2f2b04ad3c4583407dccd0810469ee</td>\n",
       "    </tr>\n",
       "    <tr>\n",
       "      <th>29</th>\n",
       "      <td>1364.0</td>\n",
       "      <td>predicting churn with the spss random tree alg...</td>\n",
       "      <td>3b241403886ff0b565c4c00bbe5f86647ece0a92</td>\n",
       "    </tr>\n",
       "    <tr>\n",
       "      <th>...</th>\n",
       "      <td>...</td>\n",
       "      <td>...</td>\n",
       "      <td>...</td>\n",
       "    </tr>\n",
       "    <tr>\n",
       "      <th>45834</th>\n",
       "      <td>111.0</td>\n",
       "      <td>tidy up your jupyter notebooks with scripts</td>\n",
       "      <td>fb06291e6550296e0f1b36e4f8c13218f615700e</td>\n",
       "    </tr>\n",
       "    <tr>\n",
       "      <th>45835</th>\n",
       "      <td>1330.0</td>\n",
       "      <td>insights from new york car accident reports</td>\n",
       "      <td>fb06291e6550296e0f1b36e4f8c13218f615700e</td>\n",
       "    </tr>\n",
       "    <tr>\n",
       "      <th>45836</th>\n",
       "      <td>1186.0</td>\n",
       "      <td>connect to db2 warehouse on cloud and db2 usin...</td>\n",
       "      <td>fb06291e6550296e0f1b36e4f8c13218f615700e</td>\n",
       "    </tr>\n",
       "    <tr>\n",
       "      <th>45845</th>\n",
       "      <td>131.0</td>\n",
       "      <td>simple graphing with ipython and pandas</td>\n",
       "      <td>e90de4b883d9de64a47774ad7ad49ca6fd69d4fe</td>\n",
       "    </tr>\n",
       "    <tr>\n",
       "      <th>45846</th>\n",
       "      <td>935.0</td>\n",
       "      <td>making data cleaning simple with the sparkling...</td>\n",
       "      <td>e90de4b883d9de64a47774ad7ad49ca6fd69d4fe</td>\n",
       "    </tr>\n",
       "    <tr>\n",
       "      <th>45847</th>\n",
       "      <td>12.0</td>\n",
       "      <td>timeseries data analysis of iot events by usin...</td>\n",
       "      <td>e90de4b883d9de64a47774ad7ad49ca6fd69d4fe</td>\n",
       "    </tr>\n",
       "    <tr>\n",
       "      <th>45848</th>\n",
       "      <td>1018.0</td>\n",
       "      <td>7 types of job profiles that makes you a data ...</td>\n",
       "      <td>e90de4b883d9de64a47774ad7ad49ca6fd69d4fe</td>\n",
       "    </tr>\n",
       "    <tr>\n",
       "      <th>45849</th>\n",
       "      <td>193.0</td>\n",
       "      <td>spark 2.1 and job monitoring available in dsx</td>\n",
       "      <td>e90de4b883d9de64a47774ad7ad49ca6fd69d4fe</td>\n",
       "    </tr>\n",
       "    <tr>\n",
       "      <th>45946</th>\n",
       "      <td>189.0</td>\n",
       "      <td>common excel tasks demonstrated in pandas</td>\n",
       "      <td>a3f94d0fa042638f6ae5cdcd028e6d87884f1ee4</td>\n",
       "    </tr>\n",
       "    <tr>\n",
       "      <th>45947</th>\n",
       "      <td>975.0</td>\n",
       "      <td>the data science process</td>\n",
       "      <td>7cef554fdc3a6835f31456054ff69742b068bcb7</td>\n",
       "    </tr>\n",
       "    <tr>\n",
       "      <th>45948</th>\n",
       "      <td>14.0</td>\n",
       "      <td>got zip code data? prep it for analytics. – ib...</td>\n",
       "      <td>7cef554fdc3a6835f31456054ff69742b068bcb7</td>\n",
       "    </tr>\n",
       "    <tr>\n",
       "      <th>45949</th>\n",
       "      <td>113.0</td>\n",
       "      <td>this week in data science (february 28, 2017)</td>\n",
       "      <td>0f3f3b558c7a821ef18092c48ea924aff362ec53</td>\n",
       "    </tr>\n",
       "    <tr>\n",
       "      <th>45950</th>\n",
       "      <td>1398.0</td>\n",
       "      <td>total population by country</td>\n",
       "      <td>0f3f3b558c7a821ef18092c48ea924aff362ec53</td>\n",
       "    </tr>\n",
       "    <tr>\n",
       "      <th>45951</th>\n",
       "      <td>1324.0</td>\n",
       "      <td>ibm watson facebook posts for 2015</td>\n",
       "      <td>0f3f3b558c7a821ef18092c48ea924aff362ec53</td>\n",
       "    </tr>\n",
       "    <tr>\n",
       "      <th>45952</th>\n",
       "      <td>1343.0</td>\n",
       "      <td>maximize oil company profits</td>\n",
       "      <td>0f3f3b558c7a821ef18092c48ea924aff362ec53</td>\n",
       "    </tr>\n",
       "    <tr>\n",
       "      <th>45953</th>\n",
       "      <td>1409.0</td>\n",
       "      <td>uci: red wine quality</td>\n",
       "      <td>0f3f3b558c7a821ef18092c48ea924aff362ec53</td>\n",
       "    </tr>\n",
       "    <tr>\n",
       "      <th>45974</th>\n",
       "      <td>270.0</td>\n",
       "      <td>learning statistics on youtube</td>\n",
       "      <td>aee3c105b56256124382cd74624a993f2e840b6f</td>\n",
       "    </tr>\n",
       "    <tr>\n",
       "      <th>45975</th>\n",
       "      <td>1165.0</td>\n",
       "      <td>analyze precipitation data</td>\n",
       "      <td>1b7a3f70a30b90837681376d48c1ae8832f9834b</td>\n",
       "    </tr>\n",
       "    <tr>\n",
       "      <th>45976</th>\n",
       "      <td>20.0</td>\n",
       "      <td>working interactively with rstudio and noteboo...</td>\n",
       "      <td>1b7a3f70a30b90837681376d48c1ae8832f9834b</td>\n",
       "    </tr>\n",
       "    <tr>\n",
       "      <th>45977</th>\n",
       "      <td>1305.0</td>\n",
       "      <td>gosales transactions for naive bayes model</td>\n",
       "      <td>1b7a3f70a30b90837681376d48c1ae8832f9834b</td>\n",
       "    </tr>\n",
       "    <tr>\n",
       "      <th>45978</th>\n",
       "      <td>962.0</td>\n",
       "      <td>data visualization with r: scrum metrics</td>\n",
       "      <td>1b7a3f70a30b90837681376d48c1ae8832f9834b</td>\n",
       "    </tr>\n",
       "    <tr>\n",
       "      <th>45979</th>\n",
       "      <td>962.0</td>\n",
       "      <td>data visualization with r: scrum metrics</td>\n",
       "      <td>1b7a3f70a30b90837681376d48c1ae8832f9834b</td>\n",
       "    </tr>\n",
       "    <tr>\n",
       "      <th>45981</th>\n",
       "      <td>1324.0</td>\n",
       "      <td>ibm watson facebook posts for 2015</td>\n",
       "      <td>d21b998d7a4722310ceeaa3c6aaa181a36db2d73</td>\n",
       "    </tr>\n",
       "    <tr>\n",
       "      <th>45982</th>\n",
       "      <td>1324.0</td>\n",
       "      <td>ibm watson facebook posts for 2015</td>\n",
       "      <td>d21b998d7a4722310ceeaa3c6aaa181a36db2d73</td>\n",
       "    </tr>\n",
       "    <tr>\n",
       "      <th>45983</th>\n",
       "      <td>1157.0</td>\n",
       "      <td>airbnb data for analytics: washington d.c. lis...</td>\n",
       "      <td>d21b998d7a4722310ceeaa3c6aaa181a36db2d73</td>\n",
       "    </tr>\n",
       "    <tr>\n",
       "      <th>45984</th>\n",
       "      <td>1416.0</td>\n",
       "      <td>united states demographic measures: population...</td>\n",
       "      <td>d21b998d7a4722310ceeaa3c6aaa181a36db2d73</td>\n",
       "    </tr>\n",
       "    <tr>\n",
       "      <th>45985</th>\n",
       "      <td>1394.0</td>\n",
       "      <td>the nurse assignment problem data</td>\n",
       "      <td>d21b998d7a4722310ceeaa3c6aaa181a36db2d73</td>\n",
       "    </tr>\n",
       "    <tr>\n",
       "      <th>45990</th>\n",
       "      <td>233.0</td>\n",
       "      <td>bayesian nonparametric models – stats and bots</td>\n",
       "      <td>4faeed980a7cd11e0f3cf2058cc04daa2ef11452</td>\n",
       "    </tr>\n",
       "    <tr>\n",
       "      <th>45991</th>\n",
       "      <td>1160.0</td>\n",
       "      <td>analyze accident reports on amazon emr spark</td>\n",
       "      <td>abbf639ba05daa5249c520e290283a6d726ba78d</td>\n",
       "    </tr>\n",
       "    <tr>\n",
       "      <th>45992</th>\n",
       "      <td>16.0</td>\n",
       "      <td>higher-order logistic regression for large dat...</td>\n",
       "      <td>1f18e8aaccd6c8720180c3fe264c8aef5b00697f</td>\n",
       "    </tr>\n",
       "  </tbody>\n",
       "</table>\n",
       "<p>16678 rows × 3 columns</p>\n",
       "</div>"
      ],
      "text/plain": [
       "       article_id                                              title  \\\n",
       "0          1430.0  using pixiedust for fast, flexible, and easier...   \n",
       "1          1314.0       healthcare python streaming application demo   \n",
       "2          1429.0         use deep learning for image classification   \n",
       "3          1338.0          ml optimization using cognitive assistant   \n",
       "4          1276.0          deploy your python model as a restful api   \n",
       "5          1432.0         visualize data with the matplotlib library   \n",
       "6          1429.0         use deep learning for image classification   \n",
       "7           593.0  upload files to ibm data science experience us...   \n",
       "8          1314.0       healthcare python streaming application demo   \n",
       "9          1185.0              classify tumors with machine learning   \n",
       "10          993.0           configuring the apache spark sql context   \n",
       "11           14.0  got zip code data? prep it for analytics. – ib...   \n",
       "12         1395.0                        the unit commitment problem   \n",
       "13         1314.0       healthcare python streaming application demo   \n",
       "14         1170.0           apache spark lab, part 1: basic concepts   \n",
       "15          542.0                        getting started with python   \n",
       "16           12.0  timeseries data analysis of iot events by usin...   \n",
       "17         1430.0  using pixiedust for fast, flexible, and easier...   \n",
       "18         1338.0          ml optimization using cognitive assistant   \n",
       "19          173.0  10 must attend data science, ml and ai confere...   \n",
       "20         1314.0       healthcare python streaming application demo   \n",
       "21         1338.0          ml optimization using cognitive assistant   \n",
       "22         1320.0  housing (2015): united states demographic meas...   \n",
       "23         1052.0  access db2 warehouse on cloud and db2 with python   \n",
       "24         1432.0         visualize data with the matplotlib library   \n",
       "25         1393.0                       the nurse assignment problem   \n",
       "26         1338.0          ml optimization using cognitive assistant   \n",
       "27          593.0  upload files to ibm data science experience us...   \n",
       "28          362.0                                   dsx: hybrid mode   \n",
       "29         1364.0  predicting churn with the spss random tree alg...   \n",
       "...           ...                                                ...   \n",
       "45834       111.0        tidy up your jupyter notebooks with scripts   \n",
       "45835      1330.0        insights from new york car accident reports   \n",
       "45836      1186.0  connect to db2 warehouse on cloud and db2 usin...   \n",
       "45845       131.0            simple graphing with ipython and pandas   \n",
       "45846       935.0  making data cleaning simple with the sparkling...   \n",
       "45847        12.0  timeseries data analysis of iot events by usin...   \n",
       "45848      1018.0  7 types of job profiles that makes you a data ...   \n",
       "45849       193.0      spark 2.1 and job monitoring available in dsx   \n",
       "45946       189.0          common excel tasks demonstrated in pandas   \n",
       "45947       975.0                           the data science process   \n",
       "45948        14.0  got zip code data? prep it for analytics. – ib...   \n",
       "45949       113.0      this week in data science (february 28, 2017)   \n",
       "45950      1398.0                        total population by country   \n",
       "45951      1324.0                 ibm watson facebook posts for 2015   \n",
       "45952      1343.0                       maximize oil company profits   \n",
       "45953      1409.0                              uci: red wine quality   \n",
       "45974       270.0                     learning statistics on youtube   \n",
       "45975      1165.0                         analyze precipitation data   \n",
       "45976        20.0  working interactively with rstudio and noteboo...   \n",
       "45977      1305.0         gosales transactions for naive bayes model   \n",
       "45978       962.0           data visualization with r: scrum metrics   \n",
       "45979       962.0           data visualization with r: scrum metrics   \n",
       "45981      1324.0                 ibm watson facebook posts for 2015   \n",
       "45982      1324.0                 ibm watson facebook posts for 2015   \n",
       "45983      1157.0  airbnb data for analytics: washington d.c. lis...   \n",
       "45984      1416.0  united states demographic measures: population...   \n",
       "45985      1394.0                  the nurse assignment problem data   \n",
       "45990       233.0     bayesian nonparametric models – stats and bots   \n",
       "45991      1160.0       analyze accident reports on amazon emr spark   \n",
       "45992        16.0  higher-order logistic regression for large dat...   \n",
       "\n",
       "                                          email  \n",
       "0      ef5f11f77ba020cd36e1105a00ab868bbdbf7fe7  \n",
       "1      083cbdfa93c8444beaa4c5f5e0f5f9198e4f9e0b  \n",
       "2      b96a4f2e92d8572034b1e9b28f9ac673765cd074  \n",
       "3      06485706b34a5c9bf2a0ecdac41daf7e7654ceb7  \n",
       "4      f01220c46fc92c6e6b161b1849de11faacd7ccb2  \n",
       "5      b32cd4e1a74e55ac42e4ef484b1f0ad41ee3b1c5  \n",
       "6      3c2de1b0a92728aa53064a22ff7bd7319878ed95  \n",
       "7      3bbca9c41c66c4ecc46bc14eac7b7ab1ab0a5bea  \n",
       "8      8b6fb4bbb7a27b336ba35420bf58337d877455c7  \n",
       "9      35d5799b6ea3ba24f921ed38f7f9a8039ad06ba4  \n",
       "10     fc4e4290f2f320d80711bbe019618cc5be8815fa  \n",
       "11     de6333cc934b9b7663ea38ca7cf13d59a4baae3b  \n",
       "12     5e8b6eea25188b0516fc111a32daa59a4419f767  \n",
       "13     06485706b34a5c9bf2a0ecdac41daf7e7654ceb7  \n",
       "14     35d5799b6ea3ba24f921ed38f7f9a8039ad06ba4  \n",
       "15     f44787ebd5330e097a1ee8aea81d970200e912bb  \n",
       "16     fc4e4290f2f320d80711bbe019618cc5be8815fa  \n",
       "17     ec123f6658890db92d7db29a04c03e5e2098fa43  \n",
       "18     9ac67534404850b3850c331c66e9233504ec5eaa  \n",
       "19     011ae4de07ffb332b0f51c155a35c23c80294962  \n",
       "20     f0d738c18e8ef4736beabea9db813cd86cc5a148  \n",
       "21     737e9353c4266ccaa254acfd611024741a923842  \n",
       "22     07545b0e6624cdfb2c81a17624c9326a1371c446  \n",
       "23     f44787ebd5330e097a1ee8aea81d970200e912bb  \n",
       "24     f0d738c18e8ef4736beabea9db813cd86cc5a148  \n",
       "25     8dc8d7ec2356b1b106eb3d723f3c234e03ab3f1e  \n",
       "26     b32cd4e1a74e55ac42e4ef484b1f0ad41ee3b1c5  \n",
       "27     b6926a8fa3ece411773bfba65c455fb15df4d6c6  \n",
       "28     2b6c0f514c2f2b04ad3c4583407dccd0810469ee  \n",
       "29     3b241403886ff0b565c4c00bbe5f86647ece0a92  \n",
       "...                                         ...  \n",
       "45834  fb06291e6550296e0f1b36e4f8c13218f615700e  \n",
       "45835  fb06291e6550296e0f1b36e4f8c13218f615700e  \n",
       "45836  fb06291e6550296e0f1b36e4f8c13218f615700e  \n",
       "45845  e90de4b883d9de64a47774ad7ad49ca6fd69d4fe  \n",
       "45846  e90de4b883d9de64a47774ad7ad49ca6fd69d4fe  \n",
       "45847  e90de4b883d9de64a47774ad7ad49ca6fd69d4fe  \n",
       "45848  e90de4b883d9de64a47774ad7ad49ca6fd69d4fe  \n",
       "45849  e90de4b883d9de64a47774ad7ad49ca6fd69d4fe  \n",
       "45946  a3f94d0fa042638f6ae5cdcd028e6d87884f1ee4  \n",
       "45947  7cef554fdc3a6835f31456054ff69742b068bcb7  \n",
       "45948  7cef554fdc3a6835f31456054ff69742b068bcb7  \n",
       "45949  0f3f3b558c7a821ef18092c48ea924aff362ec53  \n",
       "45950  0f3f3b558c7a821ef18092c48ea924aff362ec53  \n",
       "45951  0f3f3b558c7a821ef18092c48ea924aff362ec53  \n",
       "45952  0f3f3b558c7a821ef18092c48ea924aff362ec53  \n",
       "45953  0f3f3b558c7a821ef18092c48ea924aff362ec53  \n",
       "45974  aee3c105b56256124382cd74624a993f2e840b6f  \n",
       "45975  1b7a3f70a30b90837681376d48c1ae8832f9834b  \n",
       "45976  1b7a3f70a30b90837681376d48c1ae8832f9834b  \n",
       "45977  1b7a3f70a30b90837681376d48c1ae8832f9834b  \n",
       "45978  1b7a3f70a30b90837681376d48c1ae8832f9834b  \n",
       "45979  1b7a3f70a30b90837681376d48c1ae8832f9834b  \n",
       "45981  d21b998d7a4722310ceeaa3c6aaa181a36db2d73  \n",
       "45982  d21b998d7a4722310ceeaa3c6aaa181a36db2d73  \n",
       "45983  d21b998d7a4722310ceeaa3c6aaa181a36db2d73  \n",
       "45984  d21b998d7a4722310ceeaa3c6aaa181a36db2d73  \n",
       "45985  d21b998d7a4722310ceeaa3c6aaa181a36db2d73  \n",
       "45990  4faeed980a7cd11e0f3cf2058cc04daa2ef11452  \n",
       "45991  abbf639ba05daa5249c520e290283a6d726ba78d  \n",
       "45992  1f18e8aaccd6c8720180c3fe264c8aef5b00697f  \n",
       "\n",
       "[16678 rows x 3 columns]"
      ]
     },
     "execution_count": 20,
     "metadata": {},
     "output_type": "execute_result"
    }
   ],
   "source": [
    "df_email.head()"
   ]
  },
  {
   "cell_type": "code",
   "execution_count": 21,
   "metadata": {},
   "outputs": [
    {
     "data": {
      "text/html": [
       "<div>\n",
       "<style scoped>\n",
       "    .dataframe tbody tr th:only-of-type {\n",
       "        vertical-align: middle;\n",
       "    }\n",
       "\n",
       "    .dataframe tbody tr th {\n",
       "        vertical-align: top;\n",
       "    }\n",
       "\n",
       "    .dataframe thead tr th {\n",
       "        text-align: left;\n",
       "    }\n",
       "\n",
       "    .dataframe thead tr:last-of-type th {\n",
       "        text-align: right;\n",
       "    }\n",
       "</style>\n",
       "<table border=\"1\" class=\"dataframe\">\n",
       "  <thead>\n",
       "    <tr>\n",
       "      <th></th>\n",
       "      <th colspan=\"8\" halign=\"left\">article_id</th>\n",
       "    </tr>\n",
       "    <tr>\n",
       "      <th></th>\n",
       "      <th>count</th>\n",
       "      <th>mean</th>\n",
       "      <th>std</th>\n",
       "      <th>min</th>\n",
       "      <th>25%</th>\n",
       "      <th>50%</th>\n",
       "      <th>75%</th>\n",
       "      <th>max</th>\n",
       "    </tr>\n",
       "    <tr>\n",
       "      <th>email</th>\n",
       "      <th></th>\n",
       "      <th></th>\n",
       "      <th></th>\n",
       "      <th></th>\n",
       "      <th></th>\n",
       "      <th></th>\n",
       "      <th></th>\n",
       "      <th></th>\n",
       "    </tr>\n",
       "  </thead>\n",
       "  <tbody>\n",
       "    <tr>\n",
       "      <th>0000b6387a0366322d7fbfc6434af145adf7fed1</th>\n",
       "      <td>13.0</td>\n",
       "      <td>674.538462</td>\n",
       "      <td>537.898475</td>\n",
       "      <td>43.0</td>\n",
       "      <td>173.00</td>\n",
       "      <td>618.0</td>\n",
       "      <td>1232.00</td>\n",
       "      <td>1354.0</td>\n",
       "    </tr>\n",
       "    <tr>\n",
       "      <th>001055fc0bb67f71e8fa17002342b256a30254cd</th>\n",
       "      <td>4.0</td>\n",
       "      <td>538.500000</td>\n",
       "      <td>575.343086</td>\n",
       "      <td>124.0</td>\n",
       "      <td>221.50</td>\n",
       "      <td>322.0</td>\n",
       "      <td>639.00</td>\n",
       "      <td>1386.0</td>\n",
       "    </tr>\n",
       "    <tr>\n",
       "      <th>00148e4911c7e04eeff8def7bbbdaf1c59c2c621</th>\n",
       "      <td>3.0</td>\n",
       "      <td>858.666667</td>\n",
       "      <td>567.564387</td>\n",
       "      <td>258.0</td>\n",
       "      <td>595.00</td>\n",
       "      <td>932.0</td>\n",
       "      <td>1159.00</td>\n",
       "      <td>1386.0</td>\n",
       "    </tr>\n",
       "    <tr>\n",
       "      <th>001a852ecbd6cc12ab77a785efa137b2646505fe</th>\n",
       "      <td>6.0</td>\n",
       "      <td>809.833333</td>\n",
       "      <td>495.809406</td>\n",
       "      <td>232.0</td>\n",
       "      <td>410.00</td>\n",
       "      <td>775.0</td>\n",
       "      <td>1262.25</td>\n",
       "      <td>1364.0</td>\n",
       "    </tr>\n",
       "    <tr>\n",
       "      <th>001fc95b90da5c3cb12c501d201a915e4f093290</th>\n",
       "      <td>2.0</td>\n",
       "      <td>871.500000</td>\n",
       "      <td>696.500179</td>\n",
       "      <td>379.0</td>\n",
       "      <td>625.25</td>\n",
       "      <td>871.5</td>\n",
       "      <td>1117.75</td>\n",
       "      <td>1364.0</td>\n",
       "    </tr>\n",
       "  </tbody>\n",
       "</table>\n",
       "</div>"
      ],
      "text/plain": [
       "                                         article_id                          \\\n",
       "                                              count        mean         std   \n",
       "email                                                                         \n",
       "0000b6387a0366322d7fbfc6434af145adf7fed1       13.0  674.538462  537.898475   \n",
       "001055fc0bb67f71e8fa17002342b256a30254cd        4.0  538.500000  575.343086   \n",
       "00148e4911c7e04eeff8def7bbbdaf1c59c2c621        3.0  858.666667  567.564387   \n",
       "001a852ecbd6cc12ab77a785efa137b2646505fe        6.0  809.833333  495.809406   \n",
       "001fc95b90da5c3cb12c501d201a915e4f093290        2.0  871.500000  696.500179   \n",
       "\n",
       "                                                                         \\\n",
       "                                            min     25%    50%      75%   \n",
       "email                                                                     \n",
       "0000b6387a0366322d7fbfc6434af145adf7fed1   43.0  173.00  618.0  1232.00   \n",
       "001055fc0bb67f71e8fa17002342b256a30254cd  124.0  221.50  322.0   639.00   \n",
       "00148e4911c7e04eeff8def7bbbdaf1c59c2c621  258.0  595.00  932.0  1159.00   \n",
       "001a852ecbd6cc12ab77a785efa137b2646505fe  232.0  410.00  775.0  1262.25   \n",
       "001fc95b90da5c3cb12c501d201a915e4f093290  379.0  625.25  871.5  1117.75   \n",
       "\n",
       "                                                  \n",
       "                                             max  \n",
       "email                                             \n",
       "0000b6387a0366322d7fbfc6434af145adf7fed1  1354.0  \n",
       "001055fc0bb67f71e8fa17002342b256a30254cd  1386.0  \n",
       "00148e4911c7e04eeff8def7bbbdaf1c59c2c621  1386.0  \n",
       "001a852ecbd6cc12ab77a785efa137b2646505fe  1364.0  \n",
       "001fc95b90da5c3cb12c501d201a915e4f093290  1364.0  "
      ]
     },
     "execution_count": 21,
     "metadata": {},
     "output_type": "execute_result"
    }
   ],
   "source": [
    "df_email.describe().head()"
   ]
  },
  {
   "cell_type": "code",
   "execution_count": 22,
   "metadata": {},
   "outputs": [
    {
     "data": {
      "text/html": [
       "<div>\n",
       "<style scoped>\n",
       "    .dataframe tbody tr th:only-of-type {\n",
       "        vertical-align: middle;\n",
       "    }\n",
       "\n",
       "    .dataframe tbody tr th {\n",
       "        vertical-align: top;\n",
       "    }\n",
       "\n",
       "    .dataframe thead th {\n",
       "        text-align: right;\n",
       "    }\n",
       "</style>\n",
       "<table border=\"1\" class=\"dataframe\">\n",
       "  <thead>\n",
       "    <tr style=\"text-align: right;\">\n",
       "      <th></th>\n",
       "      <th>article_id</th>\n",
       "      <th>title</th>\n",
       "    </tr>\n",
       "    <tr>\n",
       "      <th>email</th>\n",
       "      <th></th>\n",
       "      <th></th>\n",
       "    </tr>\n",
       "  </thead>\n",
       "  <tbody>\n",
       "    <tr>\n",
       "      <th>0000b6387a0366322d7fbfc6434af145adf7fed1</th>\n",
       "      <td>13</td>\n",
       "      <td>13</td>\n",
       "    </tr>\n",
       "    <tr>\n",
       "      <th>001055fc0bb67f71e8fa17002342b256a30254cd</th>\n",
       "      <td>4</td>\n",
       "      <td>4</td>\n",
       "    </tr>\n",
       "    <tr>\n",
       "      <th>00148e4911c7e04eeff8def7bbbdaf1c59c2c621</th>\n",
       "      <td>3</td>\n",
       "      <td>3</td>\n",
       "    </tr>\n",
       "    <tr>\n",
       "      <th>001a852ecbd6cc12ab77a785efa137b2646505fe</th>\n",
       "      <td>6</td>\n",
       "      <td>6</td>\n",
       "    </tr>\n",
       "    <tr>\n",
       "      <th>001fc95b90da5c3cb12c501d201a915e4f093290</th>\n",
       "      <td>2</td>\n",
       "      <td>2</td>\n",
       "    </tr>\n",
       "  </tbody>\n",
       "</table>\n",
       "</div>"
      ],
      "text/plain": [
       "                                          article_id  title\n",
       "email                                                      \n",
       "0000b6387a0366322d7fbfc6434af145adf7fed1          13     13\n",
       "001055fc0bb67f71e8fa17002342b256a30254cd           4      4\n",
       "00148e4911c7e04eeff8def7bbbdaf1c59c2c621           3      3\n",
       "001a852ecbd6cc12ab77a785efa137b2646505fe           6      6\n",
       "001fc95b90da5c3cb12c501d201a915e4f093290           2      2"
      ]
     },
     "execution_count": 22,
     "metadata": {},
     "output_type": "execute_result"
    }
   ],
   "source": [
    "df_email.count().head()"
   ]
  },
  {
   "cell_type": "code",
   "execution_count": 23,
   "metadata": {},
   "outputs": [
    {
     "data": {
      "text/plain": [
       "3.0"
      ]
     },
     "execution_count": 23,
     "metadata": {},
     "output_type": "execute_result"
    }
   ],
   "source": [
    "df_email['article_id'].count().median()"
   ]
  },
  {
   "cell_type": "code",
   "execution_count": 24,
   "metadata": {},
   "outputs": [
    {
     "data": {
      "text/plain": [
       "email\n",
       "6cce7568da5452718e1a3702edffac34a8da74ec    1444.0\n",
       "d313c83ab3ed388ba16042a6cd33fce57d6a9e9a    1444.0\n",
       "d5843ed71361c87b364f578f20a48101289d60f9    1444.0\n",
       "fd824fc62b4753107e3db7704cd9e8a4a1c961f1    1444.0\n",
       "c45f9495a76bf95d2633444817f1be8205ad542d    1444.0\n",
       "c20e17b171ff2a34b4d684b4fe3af3be7e0700f3    1443.0\n",
       "ecee962fad63a7828319b3aa0a6557f94fc5691e    1443.0\n",
       "fa19d1470e496ac4a7bd0eeb07d17b2b3a2f9e30    1443.0\n",
       "32c368e390424c9326f736d32725e1e167abcbe4    1443.0\n",
       "9676b33c28cfc8f8dea534ebfd26ec140f8e442f    1443.0\n",
       "4ac1eb6a4d2dfbd4e18042c0908de9d3dd7c39b0    1443.0\n",
       "8a7982ea3a9d4fe4fd7389e0a94a539ccc81a7bc    1443.0\n",
       "4accff186b3c4fb061b11ad6ae1920556bd68382    1443.0\n",
       "d53071c9f495307a7a2b9d3619f7ec6e8721e1b7    1443.0\n",
       "3d840ffab77365a1b2e5ccd464bd439a347d6105    1443.0\n",
       "66fd330648798030d5fe39b4ea5b8f61e618eb6e    1442.0\n",
       "5ad53e0336bcd4aef788745048a451f9c383bf81    1442.0\n",
       "21026417853cd181c161ae20651318978bf177b0    1442.0\n",
       "0bd8ddb0c5cec4623a6bb663592747ad55477680    1442.0\n",
       "436337957e43e0b1db33a58e87971319214d03a9    1441.0\n",
       "3cdbb321cad01f39848fcde8288109a73ee7febb    1441.0\n",
       "8c37a3959fb30f349adff02cc545907dafd41b2a    1441.0\n",
       "3c3b60c3fb094373d6aa9420b2f8c08cd6a23354    1441.0\n",
       "6cc4570c229f2a444007ddc53d6a1a30a5e02a21    1440.0\n",
       "43ff9ec94d4ff7bd48b2726d459a6a3b0b0921b6    1440.0\n",
       "e685741240520687a02b033e21938ddf3acdab7f    1440.0\n",
       "a4ce0a47da79499778f8cf4c94fd5cd0fde39002    1440.0\n",
       "3b241403886ff0b565c4c00bbe5f86647ece0a92    1440.0\n",
       "aaaf1a153d6b2f025b275c68324b6dd6d15f22ff    1440.0\n",
       "f5f75ae5cf58f22ca1aa51e5a472886931035cba    1439.0\n",
       "                                             ...  \n",
       "390ff54f3b21a1de597958adf149983f8cad9a36      12.0\n",
       "9db953fb65f5d57d8b8d82a0d04471dd5b7bac7b      12.0\n",
       "014e4fe6e6c5eb3fe5ca0b16c16fb4599df6375c      12.0\n",
       "4a5d826498d04119f60a8e272b25a366ee8bd5a4      12.0\n",
       "16d0dab5fc44c8f10ab604e04076c54abc5bc5da      12.0\n",
       "b1f493c95ba234d783e017bc0981cd99f7098d00       9.0\n",
       "c10c55ea873ca4f39e779a2c4673ac8b801b85d8       9.0\n",
       "e6d693a1c9251cea3b3b5543eebcb624925193d6       9.0\n",
       "e04510c72f3e96ac354b29eb5b7479fc555509ce       9.0\n",
       "6ffff9945e17a224a1a4c6be31cff14c8d949f27       8.0\n",
       "440a50305795afa60904276684ac7abc3a6a9ea1       8.0\n",
       "6c83da86ac7b4253314ca18ff2916ce163bde711       8.0\n",
       "d0eb509ebf4cdd96f439f9896fb8f3168bfd4519       8.0\n",
       "2e365eb68e17e147fbe1be0b1f7769057a6c1837       8.0\n",
       "73002adf485981dfef08d97a4e9b8bee57ee01eb       8.0\n",
       "0675497a65eccd5ff720d2112c3710b3080a83d3       8.0\n",
       "dcaa893dbbccef9dbae5fad542078d82c2c4d49e       8.0\n",
       "4f58a6bff2d722bff791a523e97d455d62b8cee8       8.0\n",
       "89b0028feefcd313557efdee560fdda5a4c0a477       8.0\n",
       "ac9bfcaae65d3092c3993dab5cf79079854a9ec3       8.0\n",
       "70b0f463d2761f73e730c12b8f474e54a37244ce       4.0\n",
       "c933adee7348b8db5e2bd9312a72525cf7febf2c       4.0\n",
       "28c39dea5d4158d21e35ce8e9a18ffb1074cd2a5       4.0\n",
       "2c984b55fa072cac799ee61ad3d554fc4de4afbd       4.0\n",
       "0246d11c827f90850ce7062e9554c9d5eeb30027       2.0\n",
       "6037831b3bafef0b09a2783466427e9cb1d490d2       2.0\n",
       "1d74fc07ef225ff993b9f80dfba85a6bd2bd55b8       2.0\n",
       "c491f4a08e9b2e0a05a11a7cc9c29f66a556c0e2       2.0\n",
       "15a1660b6450e064200f1272d9b3d049cf8cf5f1       2.0\n",
       "fa4ecb48d3940a645f0bac0c774279c5e9958832       2.0\n",
       "Name: article_id, Length: 5148, dtype: float64"
      ]
     },
     "execution_count": 24,
     "metadata": {},
     "output_type": "execute_result"
    }
   ],
   "source": [
    "df_email['article_id'].max().sort_values(ascending=False)"
   ]
  },
  {
   "cell_type": "code",
   "execution_count": 25,
   "metadata": {},
   "outputs": [],
   "source": [
    "user_views = df['email'].value_counts().sort_values(ascending=False).head(1)"
   ]
  },
  {
   "cell_type": "code",
   "execution_count": 26,
   "metadata": {},
   "outputs": [
    {
     "data": {
      "text/plain": [
       "364"
      ]
     },
     "execution_count": 26,
     "metadata": {},
     "output_type": "execute_result"
    }
   ],
   "source": [
    "user_views.iloc[0]"
   ]
  },
  {
   "cell_type": "code",
   "execution_count": 27,
   "metadata": {},
   "outputs": [],
   "source": [
    "# Fill in the median and maximum number of user_article interactios below\n",
    "\n",
    "median_val = df_email['article_id'].count().median() # 50% of individuals interact with ____ number of articles or fewer.\n",
    "max_views_by_user = user_views.iloc[0] # The maximum number of user-article interactions by any 1 user is ______."
   ]
  },
  {
   "cell_type": "markdown",
   "metadata": {},
   "source": [
    "`2.` Explore and remove duplicate articles from the **df_content** dataframe.  "
   ]
  },
  {
   "cell_type": "code",
   "execution_count": 28,
   "metadata": {},
   "outputs": [
    {
     "data": {
      "text/html": [
       "<div>\n",
       "<style scoped>\n",
       "    .dataframe tbody tr th:only-of-type {\n",
       "        vertical-align: middle;\n",
       "    }\n",
       "\n",
       "    .dataframe tbody tr th {\n",
       "        vertical-align: top;\n",
       "    }\n",
       "\n",
       "    .dataframe thead th {\n",
       "        text-align: right;\n",
       "    }\n",
       "</style>\n",
       "<table border=\"1\" class=\"dataframe\">\n",
       "  <thead>\n",
       "    <tr style=\"text-align: right;\">\n",
       "      <th></th>\n",
       "      <th>doc_body</th>\n",
       "      <th>doc_description</th>\n",
       "      <th>doc_full_name</th>\n",
       "      <th>doc_status</th>\n",
       "      <th>article_id</th>\n",
       "    </tr>\n",
       "  </thead>\n",
       "  <tbody>\n",
       "    <tr>\n",
       "      <th>365</th>\n",
       "      <td>Follow Sign in / Sign up Home About Insight Da...</td>\n",
       "      <td>During the seven-week Insight Data Engineering...</td>\n",
       "      <td>Graph-based machine learning</td>\n",
       "      <td>Live</td>\n",
       "      <td>50</td>\n",
       "    </tr>\n",
       "    <tr>\n",
       "      <th>692</th>\n",
       "      <td>Homepage Follow Sign in / Sign up Homepage * H...</td>\n",
       "      <td>One of the earliest documented catalogs was co...</td>\n",
       "      <td>How smart catalogs can turn the big data flood...</td>\n",
       "      <td>Live</td>\n",
       "      <td>221</td>\n",
       "    </tr>\n",
       "    <tr>\n",
       "      <th>761</th>\n",
       "      <td>Homepage Follow Sign in Get started Homepage *...</td>\n",
       "      <td>Today’s world of data science leverages data f...</td>\n",
       "      <td>Using Apache Spark as a parallel processing fr...</td>\n",
       "      <td>Live</td>\n",
       "      <td>398</td>\n",
       "    </tr>\n",
       "    <tr>\n",
       "      <th>970</th>\n",
       "      <td>This video shows you how to construct queries ...</td>\n",
       "      <td>This video shows you how to construct queries ...</td>\n",
       "      <td>Use the Primary Index</td>\n",
       "      <td>Live</td>\n",
       "      <td>577</td>\n",
       "    </tr>\n",
       "    <tr>\n",
       "      <th>971</th>\n",
       "      <td>Homepage Follow Sign in Get started * Home\\r\\n...</td>\n",
       "      <td>If you are like most data scientists, you are ...</td>\n",
       "      <td>Self-service data preparation with IBM Data Re...</td>\n",
       "      <td>Live</td>\n",
       "      <td>232</td>\n",
       "    </tr>\n",
       "  </tbody>\n",
       "</table>\n",
       "</div>"
      ],
      "text/plain": [
       "                                              doc_body  \\\n",
       "365  Follow Sign in / Sign up Home About Insight Da...   \n",
       "692  Homepage Follow Sign in / Sign up Homepage * H...   \n",
       "761  Homepage Follow Sign in Get started Homepage *...   \n",
       "970  This video shows you how to construct queries ...   \n",
       "971  Homepage Follow Sign in Get started * Home\\r\\n...   \n",
       "\n",
       "                                       doc_description  \\\n",
       "365  During the seven-week Insight Data Engineering...   \n",
       "692  One of the earliest documented catalogs was co...   \n",
       "761  Today’s world of data science leverages data f...   \n",
       "970  This video shows you how to construct queries ...   \n",
       "971  If you are like most data scientists, you are ...   \n",
       "\n",
       "                                         doc_full_name doc_status  article_id  \n",
       "365                       Graph-based machine learning       Live          50  \n",
       "692  How smart catalogs can turn the big data flood...       Live         221  \n",
       "761  Using Apache Spark as a parallel processing fr...       Live         398  \n",
       "970                              Use the Primary Index       Live         577  \n",
       "971  Self-service data preparation with IBM Data Re...       Live         232  "
      ]
     },
     "execution_count": 28,
     "metadata": {},
     "output_type": "execute_result"
    }
   ],
   "source": [
    "# Find and explore duplicate articles\n",
    "df_content[df_content['article_id'].duplicated()]"
   ]
  },
  {
   "cell_type": "code",
   "execution_count": 29,
   "metadata": {},
   "outputs": [
    {
     "data": {
      "text/html": [
       "<div>\n",
       "<style scoped>\n",
       "    .dataframe tbody tr th:only-of-type {\n",
       "        vertical-align: middle;\n",
       "    }\n",
       "\n",
       "    .dataframe tbody tr th {\n",
       "        vertical-align: top;\n",
       "    }\n",
       "\n",
       "    .dataframe thead th {\n",
       "        text-align: right;\n",
       "    }\n",
       "</style>\n",
       "<table border=\"1\" class=\"dataframe\">\n",
       "  <thead>\n",
       "    <tr style=\"text-align: right;\">\n",
       "      <th></th>\n",
       "      <th>doc_body</th>\n",
       "      <th>doc_description</th>\n",
       "      <th>doc_full_name</th>\n",
       "      <th>doc_status</th>\n",
       "      <th>article_id</th>\n",
       "    </tr>\n",
       "  </thead>\n",
       "  <tbody>\n",
       "    <tr>\n",
       "      <th>365</th>\n",
       "      <td>Follow Sign in / Sign up Home About Insight Da...</td>\n",
       "      <td>During the seven-week Insight Data Engineering...</td>\n",
       "      <td>Graph-based machine learning</td>\n",
       "      <td>Live</td>\n",
       "      <td>50</td>\n",
       "    </tr>\n",
       "    <tr>\n",
       "      <th>692</th>\n",
       "      <td>Homepage Follow Sign in / Sign up Homepage * H...</td>\n",
       "      <td>One of the earliest documented catalogs was co...</td>\n",
       "      <td>How smart catalogs can turn the big data flood...</td>\n",
       "      <td>Live</td>\n",
       "      <td>221</td>\n",
       "    </tr>\n",
       "    <tr>\n",
       "      <th>761</th>\n",
       "      <td>Homepage Follow Sign in Get started Homepage *...</td>\n",
       "      <td>Today’s world of data science leverages data f...</td>\n",
       "      <td>Using Apache Spark as a parallel processing fr...</td>\n",
       "      <td>Live</td>\n",
       "      <td>398</td>\n",
       "    </tr>\n",
       "    <tr>\n",
       "      <th>970</th>\n",
       "      <td>This video shows you how to construct queries ...</td>\n",
       "      <td>This video shows you how to construct queries ...</td>\n",
       "      <td>Use the Primary Index</td>\n",
       "      <td>Live</td>\n",
       "      <td>577</td>\n",
       "    </tr>\n",
       "    <tr>\n",
       "      <th>971</th>\n",
       "      <td>Homepage Follow Sign in Get started * Home\\r\\n...</td>\n",
       "      <td>If you are like most data scientists, you are ...</td>\n",
       "      <td>Self-service data preparation with IBM Data Re...</td>\n",
       "      <td>Live</td>\n",
       "      <td>232</td>\n",
       "    </tr>\n",
       "  </tbody>\n",
       "</table>\n",
       "</div>"
      ],
      "text/plain": [
       "                                              doc_body  \\\n",
       "365  Follow Sign in / Sign up Home About Insight Da...   \n",
       "692  Homepage Follow Sign in / Sign up Homepage * H...   \n",
       "761  Homepage Follow Sign in Get started Homepage *...   \n",
       "970  This video shows you how to construct queries ...   \n",
       "971  Homepage Follow Sign in Get started * Home\\r\\n...   \n",
       "\n",
       "                                       doc_description  \\\n",
       "365  During the seven-week Insight Data Engineering...   \n",
       "692  One of the earliest documented catalogs was co...   \n",
       "761  Today’s world of data science leverages data f...   \n",
       "970  This video shows you how to construct queries ...   \n",
       "971  If you are like most data scientists, you are ...   \n",
       "\n",
       "                                         doc_full_name doc_status  article_id  \n",
       "365                       Graph-based machine learning       Live          50  \n",
       "692  How smart catalogs can turn the big data flood...       Live         221  \n",
       "761  Using Apache Spark as a parallel processing fr...       Live         398  \n",
       "970                              Use the Primary Index       Live         577  \n",
       "971  Self-service data preparation with IBM Data Re...       Live         232  "
      ]
     },
     "execution_count": 29,
     "metadata": {},
     "output_type": "execute_result"
    }
   ],
   "source": [
    "df_content[df_content['doc_full_name'].duplicated()]"
   ]
  },
  {
   "cell_type": "code",
   "execution_count": 30,
   "metadata": {},
   "outputs": [],
   "source": [
    "# Remove any rows that have the same article_id - only keep the first\n",
    "df_content = df_content.drop_duplicates()"
   ]
  },
  {
   "cell_type": "code",
   "execution_count": 31,
   "metadata": {},
   "outputs": [
    {
     "data": {
      "text/plain": [
       "doc_body           0\n",
       "doc_description    0\n",
       "doc_full_name      0\n",
       "doc_status         0\n",
       "article_id         0\n",
       "dtype: int64"
      ]
     },
     "execution_count": 31,
     "metadata": {},
     "output_type": "execute_result"
    }
   ],
   "source": [
    "df_content[df_content.duplicated() == True].count()"
   ]
  },
  {
   "cell_type": "markdown",
   "metadata": {},
   "source": [
    "`3.` Use the cells below to find:\n",
    "\n",
    "**a.** The number of unique articles that have an interaction with a user.  \n",
    "**b.** The number of unique articles in the dataset (whether they have any interactions or not).<br>\n",
    "**c.** The number of unique users in the dataset. (excluding null values) <br>\n",
    "**d.** The number of user-article interactions in the dataset."
   ]
  },
  {
   "cell_type": "code",
   "execution_count": 32,
   "metadata": {},
   "outputs": [
    {
     "data": {
      "text/plain": [
       "714"
      ]
     },
     "execution_count": 32,
     "metadata": {},
     "output_type": "execute_result"
    }
   ],
   "source": [
    "df['article_id'].nunique()"
   ]
  },
  {
   "cell_type": "code",
   "execution_count": 33,
   "metadata": {},
   "outputs": [
    {
     "data": {
      "text/plain": [
       "1051"
      ]
     },
     "execution_count": 33,
     "metadata": {},
     "output_type": "execute_result"
    }
   ],
   "source": [
    "df_content['article_id'].nunique()"
   ]
  },
  {
   "cell_type": "code",
   "execution_count": 34,
   "metadata": {},
   "outputs": [
    {
     "data": {
      "text/plain": [
       "5148"
      ]
     },
     "execution_count": 34,
     "metadata": {},
     "output_type": "execute_result"
    }
   ],
   "source": [
    "df['email'].nunique()"
   ]
  },
  {
   "cell_type": "code",
   "execution_count": 35,
   "metadata": {},
   "outputs": [
    {
     "data": {
      "text/plain": [
       "45993"
      ]
     },
     "execution_count": 35,
     "metadata": {},
     "output_type": "execute_result"
    }
   ],
   "source": [
    "df.shape[0]"
   ]
  },
  {
   "cell_type": "code",
   "execution_count": 36,
   "metadata": {},
   "outputs": [],
   "source": [
    "unique_articles = df['article_id'].nunique() # The number of unique articles that have at least one interaction\n",
    "total_articles = df_content['article_id'].nunique() # The number of unique articles on the IBM platform\n",
    "unique_users = df['email'].nunique() # The number of unique users\n",
    "user_article_interactions = df.shape[0] # The number of user-article interactions"
   ]
  },
  {
   "cell_type": "markdown",
   "metadata": {},
   "source": [
    "`4.` Use the cells below to find the most viewed **article_id**, as well as how often it was viewed.  After talking to the company leaders, the `email_mapper` function was deemed a reasonable way to map users to ids.  There were a small number of null values, and it was found that all of these null values likely belonged to a single user (which is how they are stored using the function below)."
   ]
  },
  {
   "cell_type": "code",
   "execution_count": 37,
   "metadata": {},
   "outputs": [],
   "source": [
    "articles_viewed = df['article_id'].value_counts().sort_values(ascending=False).head(1)"
   ]
  },
  {
   "cell_type": "code",
   "execution_count": 38,
   "metadata": {},
   "outputs": [
    {
     "data": {
      "text/plain": [
       "'1429.0'"
      ]
     },
     "execution_count": 38,
     "metadata": {},
     "output_type": "execute_result"
    }
   ],
   "source": [
    "articles_viewed.index[0].astype(str)"
   ]
  },
  {
   "cell_type": "code",
   "execution_count": 39,
   "metadata": {},
   "outputs": [
    {
     "data": {
      "text/plain": [
       "937"
      ]
     },
     "execution_count": 39,
     "metadata": {},
     "output_type": "execute_result"
    }
   ],
   "source": [
    "articles_viewed.iloc[0]"
   ]
  },
  {
   "cell_type": "code",
   "execution_count": 40,
   "metadata": {},
   "outputs": [],
   "source": [
    "most_viewed_article_id = articles_viewed.index[0].astype(str) # The most viewed article in the dataset as a string with one value following the decimal \n",
    "max_views = articles_viewed.iloc[0] # The most viewed article in the dataset was viewed how many times?"
   ]
  },
  {
   "cell_type": "code",
   "execution_count": 41,
   "metadata": {},
   "outputs": [
    {
     "data": {
      "text/html": [
       "<div>\n",
       "<style scoped>\n",
       "    .dataframe tbody tr th:only-of-type {\n",
       "        vertical-align: middle;\n",
       "    }\n",
       "\n",
       "    .dataframe tbody tr th {\n",
       "        vertical-align: top;\n",
       "    }\n",
       "\n",
       "    .dataframe thead th {\n",
       "        text-align: right;\n",
       "    }\n",
       "</style>\n",
       "<table border=\"1\" class=\"dataframe\">\n",
       "  <thead>\n",
       "    <tr style=\"text-align: right;\">\n",
       "      <th></th>\n",
       "      <th>article_id</th>\n",
       "      <th>title</th>\n",
       "      <th>user_id</th>\n",
       "    </tr>\n",
       "  </thead>\n",
       "  <tbody>\n",
       "    <tr>\n",
       "      <th>0</th>\n",
       "      <td>1430.0</td>\n",
       "      <td>using pixiedust for fast, flexible, and easier...</td>\n",
       "      <td>1</td>\n",
       "    </tr>\n",
       "    <tr>\n",
       "      <th>1</th>\n",
       "      <td>1314.0</td>\n",
       "      <td>healthcare python streaming application demo</td>\n",
       "      <td>2</td>\n",
       "    </tr>\n",
       "    <tr>\n",
       "      <th>2</th>\n",
       "      <td>1429.0</td>\n",
       "      <td>use deep learning for image classification</td>\n",
       "      <td>3</td>\n",
       "    </tr>\n",
       "    <tr>\n",
       "      <th>3</th>\n",
       "      <td>1338.0</td>\n",
       "      <td>ml optimization using cognitive assistant</td>\n",
       "      <td>4</td>\n",
       "    </tr>\n",
       "    <tr>\n",
       "      <th>4</th>\n",
       "      <td>1276.0</td>\n",
       "      <td>deploy your python model as a restful api</td>\n",
       "      <td>5</td>\n",
       "    </tr>\n",
       "  </tbody>\n",
       "</table>\n",
       "</div>"
      ],
      "text/plain": [
       "   article_id                                              title  user_id\n",
       "0      1430.0  using pixiedust for fast, flexible, and easier...        1\n",
       "1      1314.0       healthcare python streaming application demo        2\n",
       "2      1429.0         use deep learning for image classification        3\n",
       "3      1338.0          ml optimization using cognitive assistant        4\n",
       "4      1276.0          deploy your python model as a restful api        5"
      ]
     },
     "execution_count": 41,
     "metadata": {},
     "output_type": "execute_result"
    }
   ],
   "source": [
    "## No need to change the code here - this will be helpful for later parts of the notebook\n",
    "# Run this cell to map the user email to a user_id column and remove the email column\n",
    "\n",
    "def email_mapper():\n",
    "    coded_dict = dict()\n",
    "    cter = 1\n",
    "    email_encoded = []\n",
    "    \n",
    "    for val in df['email']:\n",
    "        if val not in coded_dict:\n",
    "            coded_dict[val] = cter\n",
    "            cter+=1\n",
    "        \n",
    "        email_encoded.append(coded_dict[val])\n",
    "    return email_encoded\n",
    "\n",
    "email_encoded = email_mapper()\n",
    "del df['email']\n",
    "df['user_id'] = email_encoded\n",
    "\n",
    "# show header\n",
    "df.head()"
   ]
  },
  {
   "cell_type": "code",
   "execution_count": 42,
   "metadata": {},
   "outputs": [
    {
     "name": "stdout",
     "output_type": "stream",
     "text": [
      "It looks like you have everything right here! Nice job!\n"
     ]
    }
   ],
   "source": [
    "## If you stored all your results in the variable names above, \n",
    "## you shouldn't need to change anything in this cell\n",
    "\n",
    "sol_1_dict = {\n",
    "    '`50% of individuals have _____ or fewer interactions.`': median_val,\n",
    "    '`The total number of user-article interactions in the dataset is ______.`': user_article_interactions,\n",
    "    '`The maximum number of user-article interactions by any 1 user is ______.`': max_views_by_user,\n",
    "    '`The most viewed article in the dataset was viewed _____ times.`': max_views,\n",
    "    '`The article_id of the most viewed article is ______.`': most_viewed_article_id,\n",
    "    '`The number of unique articles that have at least 1 rating ______.`': unique_articles,\n",
    "    '`The number of unique users in the dataset is ______`': unique_users,\n",
    "    '`The number of unique articles on the IBM platform`': total_articles\n",
    "}\n",
    "\n",
    "# Test your dictionary against the solution\n",
    "t.sol_1_test(sol_1_dict)"
   ]
  },
  {
   "cell_type": "markdown",
   "metadata": {},
   "source": [
    "### <a class=\"anchor\" id=\"Rank\">Part II: Rank-Based Recommendations</a>\n",
    "\n",
    "Unlike in the earlier lessons, we don't actually have ratings for whether a user liked an article or not.  We only know that a user has interacted with an article.  In these cases, the popularity of an article can really only be based on how often an article was interacted with.\n",
    "\n",
    "`1.` Fill in the function below to return the **n** top articles ordered with most interactions as the top. Test your function using the tests below."
   ]
  },
  {
   "cell_type": "code",
   "execution_count": 48,
   "metadata": {},
   "outputs": [
    {
     "data": {
      "text/plain": [
       "['use deep learning for image classification',\n",
       " 'insights from new york car accident reports',\n",
       " 'visualize car data with brunel',\n",
       " 'use xgboost, scikit-learn & ibm watson machine learning apis',\n",
       " 'predicting churn with the spss random tree algorithm']"
      ]
     },
     "execution_count": 48,
     "metadata": {},
     "output_type": "execute_result"
    }
   ],
   "source": [
    "list(df['title'].value_counts().nlargest(5).index[:5])"
   ]
  },
  {
   "cell_type": "code",
   "execution_count": 49,
   "metadata": {},
   "outputs": [],
   "source": [
    "def get_top_articles(n, df=df):\n",
    "    '''\n",
    "    INPUT:\n",
    "    n - (int) the number of top articles to return\n",
    "    df - (pandas dataframe) df as defined at the top of the notebook \n",
    "    \n",
    "    OUTPUT:\n",
    "    top_articles - (list) A list of the top 'n' article titles \n",
    "    \n",
    "    '''\n",
    "    top_articles = list(df['title'].value_counts().nlargest(n).index[:n])\n",
    "    \n",
    "    return top_articles # Return the top article titles from df (not df_content)\n",
    "\n",
    "def get_top_article_ids(n, df=df):\n",
    "    '''\n",
    "    INPUT:\n",
    "    n - (int) the number of top articles to return\n",
    "    df - (pandas dataframe) df as defined at the top of the notebook \n",
    "    \n",
    "    OUTPUT:\n",
    "    top_articles - (list) A list of the top 'n' article titles \n",
    "    \n",
    "    '''\n",
    "    top_articles = list(df['article_id'].value_counts().nlargest(n).index[:n])\n",
    " \n",
    "    return top_articles # Return the top article ids"
   ]
  },
  {
   "cell_type": "code",
   "execution_count": 50,
   "metadata": {},
   "outputs": [
    {
     "name": "stdout",
     "output_type": "stream",
     "text": [
      "['use deep learning for image classification', 'insights from new york car accident reports', 'visualize car data with brunel', 'use xgboost, scikit-learn & ibm watson machine learning apis', 'predicting churn with the spss random tree algorithm', 'healthcare python streaming application demo', 'finding optimal locations of new store using decision optimization', 'apache spark lab, part 1: basic concepts', 'analyze energy consumption in buildings', 'gosales transactions for logistic regression model']\n",
      "[1429.0, 1330.0, 1431.0, 1427.0, 1364.0, 1314.0, 1293.0, 1170.0, 1162.0, 1304.0]\n"
     ]
    }
   ],
   "source": [
    "print(get_top_articles(10))\n",
    "print(get_top_article_ids(10))"
   ]
  },
  {
   "cell_type": "code",
   "execution_count": 51,
   "metadata": {},
   "outputs": [
    {
     "name": "stdout",
     "output_type": "stream",
     "text": [
      "Your top_5 looks like the solution list! Nice job.\n",
      "Your top_10 looks like the solution list! Nice job.\n",
      "Your top_20 looks like the solution list! Nice job.\n"
     ]
    }
   ],
   "source": [
    "# Test your function by returning the top 5, 10, and 20 articles\n",
    "top_5 = get_top_articles(5)\n",
    "top_10 = get_top_articles(10)\n",
    "top_20 = get_top_articles(20)\n",
    "\n",
    "# Test each of your three lists from above\n",
    "t.sol_2_test(get_top_articles)"
   ]
  },
  {
   "cell_type": "markdown",
   "metadata": {},
   "source": [
    "### <a class=\"anchor\" id=\"User-User\">Part III: User-User Based Collaborative Filtering</a>\n",
    "\n",
    "\n",
    "`1.` Use the function below to reformat the **df** dataframe to be shaped with users as the rows and articles as the columns.  \n",
    "\n",
    "* Each **user** should only appear in each **row** once.\n",
    "\n",
    "\n",
    "* Each **article** should only show up in one **column**.  \n",
    "\n",
    "\n",
    "* **If a user has interacted with an article, then place a 1 where the user-row meets for that article-column**.  It does not matter how many times a user has interacted with the article, all entries where a user has interacted with an article should be a 1.  \n",
    "\n",
    "\n",
    "* **If a user has not interacted with an item, then place a zero where the user-row meets for that article-column**. \n",
    "\n",
    "Use the tests to make sure the basic structure of your matrix matches what is expected by the solution."
   ]
  },
  {
   "cell_type": "code",
   "execution_count": null,
   "metadata": {
    "collapsed": true
   },
   "outputs": [],
   "source": [
    "# create the user-article matrix with 1's and 0's\n",
    "\n",
    "def create_user_item_matrix(df):\n",
    "    '''\n",
    "    INPUT:\n",
    "    df - pandas dataframe with article_id, title, user_id columns\n",
    "    \n",
    "    OUTPUT:\n",
    "    user_item - user item matrix \n",
    "    \n",
    "    Description:\n",
    "    Return a matrix with user ids as rows and article ids on the columns with 1 values where a user interacted with \n",
    "    an article and a 0 otherwise\n",
    "    '''\n",
    "    # Fill in the function here\n",
    "    \n",
    "    return user_item # return the user_item matrix \n",
    "\n",
    "user_item = create_user_item_matrix(df)"
   ]
  },
  {
   "cell_type": "code",
   "execution_count": null,
   "metadata": {
    "collapsed": true
   },
   "outputs": [],
   "source": [
    "## Tests: You should just need to run this cell.  Don't change the code.\n",
    "assert user_item.shape[0] == 5149, \"Oops!  The number of users in the user-article matrix doesn't look right.\"\n",
    "assert user_item.shape[1] == 714, \"Oops!  The number of articles in the user-article matrix doesn't look right.\"\n",
    "assert user_item.sum(axis=1)[1] == 36, \"Oops!  The number of articles seen by user 1 doesn't look right.\"\n",
    "print(\"You have passed our quick tests!  Please proceed!\")"
   ]
  },
  {
   "cell_type": "markdown",
   "metadata": {},
   "source": [
    "`2.` Complete the function below which should take a user_id and provide an ordered list of the most similar users to that user (from most similar to least similar).  The returned result should not contain the provided user_id, as we know that each user is similar to him/herself. Because the results for each user here are binary, it (perhaps) makes sense to compute similarity as the dot product of two users. \n",
    "\n",
    "Use the tests to test your function."
   ]
  },
  {
   "cell_type": "code",
   "execution_count": null,
   "metadata": {
    "collapsed": true
   },
   "outputs": [],
   "source": [
    "def find_similar_users(user_id, user_item=user_item):\n",
    "    '''\n",
    "    INPUT:\n",
    "    user_id - (int) a user_id\n",
    "    user_item - (pandas dataframe) matrix of users by articles: \n",
    "                1's when a user has interacted with an article, 0 otherwise\n",
    "    \n",
    "    OUTPUT:\n",
    "    similar_users - (list) an ordered list where the closest users (largest dot product users)\n",
    "                    are listed first\n",
    "    \n",
    "    Description:\n",
    "    Computes the similarity of every pair of users based on the dot product\n",
    "    Returns an ordered\n",
    "    \n",
    "    '''\n",
    "    # compute similarity of each user to the provided user\n",
    "\n",
    "    # sort by similarity\n",
    "\n",
    "    # create list of just the ids\n",
    "   \n",
    "    # remove the own user's id\n",
    "       \n",
    "    return most_similar_users # return a list of the users in order from most to least similar\n",
    "        "
   ]
  },
  {
   "cell_type": "code",
   "execution_count": null,
   "metadata": {
    "collapsed": true
   },
   "outputs": [],
   "source": [
    "# Do a spot check of your function\n",
    "print(\"The 10 most similar users to user 1 are: {}\".format(find_similar_users(1)[:10]))\n",
    "print(\"The 5 most similar users to user 3933 are: {}\".format(find_similar_users(3933)[:5]))\n",
    "print(\"The 3 most similar users to user 46 are: {}\".format(find_similar_users(46)[:3]))"
   ]
  },
  {
   "cell_type": "markdown",
   "metadata": {},
   "source": [
    "`3.` Now that you have a function that provides the most similar users to each user, you will want to use these users to find articles you can recommend.  Complete the functions below to return the articles you would recommend to each user. "
   ]
  },
  {
   "cell_type": "code",
   "execution_count": null,
   "metadata": {
    "collapsed": true
   },
   "outputs": [],
   "source": [
    "def get_article_names(article_ids, df=df):\n",
    "    '''\n",
    "    INPUT:\n",
    "    article_ids - (list) a list of article ids\n",
    "    df - (pandas dataframe) df as defined at the top of the notebook\n",
    "    \n",
    "    OUTPUT:\n",
    "    article_names - (list) a list of article names associated with the list of article ids \n",
    "                    (this is identified by the title column)\n",
    "    '''\n",
    "    # Your code here\n",
    "    \n",
    "    return article_names # Return the article names associated with list of article ids\n",
    "\n",
    "\n",
    "def get_user_articles(user_id, user_item=user_item):\n",
    "    '''\n",
    "    INPUT:\n",
    "    user_id - (int) a user id\n",
    "    user_item - (pandas dataframe) matrix of users by articles: \n",
    "                1's when a user has interacted with an article, 0 otherwise\n",
    "    \n",
    "    OUTPUT:\n",
    "    article_ids - (list) a list of the article ids seen by the user\n",
    "    article_names - (list) a list of article names associated with the list of article ids \n",
    "                    (this is identified by the doc_full_name column in df_content)\n",
    "    \n",
    "    Description:\n",
    "    Provides a list of the article_ids and article titles that have been seen by a user\n",
    "    '''\n",
    "    # Your code here\n",
    "    \n",
    "    return article_ids, article_names # return the ids and names\n",
    "\n",
    "\n",
    "def user_user_recs(user_id, m=10):\n",
    "    '''\n",
    "    INPUT:\n",
    "    user_id - (int) a user id\n",
    "    m - (int) the number of recommendations you want for the user\n",
    "    \n",
    "    OUTPUT:\n",
    "    recs - (list) a list of recommendations for the user\n",
    "    \n",
    "    Description:\n",
    "    Loops through the users based on closeness to the input user_id\n",
    "    For each user - finds articles the user hasn't seen before and provides them as recs\n",
    "    Does this until m recommendations are found\n",
    "    \n",
    "    Notes:\n",
    "    Users who are the same closeness are chosen arbitrarily as the 'next' user\n",
    "    \n",
    "    For the user where the number of recommended articles starts below m \n",
    "    and ends exceeding m, the last items are chosen arbitrarily\n",
    "    \n",
    "    '''\n",
    "    # Your code here\n",
    "    \n",
    "    return recs # return your recommendations for this user_id    "
   ]
  },
  {
   "cell_type": "code",
   "execution_count": null,
   "metadata": {
    "collapsed": true
   },
   "outputs": [],
   "source": [
    "# Check Results\n",
    "get_article_names(user_user_recs(1, 10)) # Return 10 recommendations for user 1"
   ]
  },
  {
   "cell_type": "code",
   "execution_count": null,
   "metadata": {
    "collapsed": true
   },
   "outputs": [],
   "source": [
    "# Test your functions here - No need to change this code - just run this cell\n",
    "assert set(get_article_names(['1024.0', '1176.0', '1305.0', '1314.0', '1422.0', '1427.0'])) == set(['using deep learning to reconstruct high-resolution audio', 'build a python app on the streaming analytics service', 'gosales transactions for naive bayes model', 'healthcare python streaming application demo', 'use r dataframes & ibm watson natural language understanding', 'use xgboost, scikit-learn & ibm watson machine learning apis']), \"Oops! Your the get_article_names function doesn't work quite how we expect.\"\n",
    "assert set(get_article_names(['1320.0', '232.0', '844.0'])) == set(['housing (2015): united states demographic measures','self-service data preparation with ibm data refinery','use the cloudant-spark connector in python notebook']), \"Oops! Your the get_article_names function doesn't work quite how we expect.\"\n",
    "assert set(get_user_articles(20)[0]) == set(['1320.0', '232.0', '844.0'])\n",
    "assert set(get_user_articles(20)[1]) == set(['housing (2015): united states demographic measures', 'self-service data preparation with ibm data refinery','use the cloudant-spark connector in python notebook'])\n",
    "assert set(get_user_articles(2)[0]) == set(['1024.0', '1176.0', '1305.0', '1314.0', '1422.0', '1427.0'])\n",
    "assert set(get_user_articles(2)[1]) == set(['using deep learning to reconstruct high-resolution audio', 'build a python app on the streaming analytics service', 'gosales transactions for naive bayes model', 'healthcare python streaming application demo', 'use r dataframes & ibm watson natural language understanding', 'use xgboost, scikit-learn & ibm watson machine learning apis'])\n",
    "print(\"If this is all you see, you passed all of our tests!  Nice job!\")"
   ]
  },
  {
   "cell_type": "markdown",
   "metadata": {},
   "source": [
    "`4.` Now we are going to improve the consistency of the **user_user_recs** function from above.  \n",
    "\n",
    "* Instead of arbitrarily choosing when we obtain users who are all the same closeness to a given user - choose the users that have the most total article interactions before choosing those with fewer article interactions.\n",
    "\n",
    "\n",
    "* Instead of arbitrarily choosing articles from the user where the number of recommended articles starts below m and ends exceeding m, choose articles with the articles with the most total interactions before choosing those with fewer total interactions. This ranking should be  what would be obtained from the **top_articles** function you wrote earlier."
   ]
  },
  {
   "cell_type": "code",
   "execution_count": null,
   "metadata": {
    "collapsed": true
   },
   "outputs": [],
   "source": [
    "def get_top_sorted_users(user_id, df=df, user_item=user_item):\n",
    "    '''\n",
    "    INPUT:\n",
    "    user_id - (int)\n",
    "    df - (pandas dataframe) df as defined at the top of the notebook \n",
    "    user_item - (pandas dataframe) matrix of users by articles: \n",
    "            1's when a user has interacted with an article, 0 otherwise\n",
    "    \n",
    "            \n",
    "    OUTPUT:\n",
    "    neighbors_df - (pandas dataframe) a dataframe with:\n",
    "                    neighbor_id - is a neighbor user_id\n",
    "                    similarity - measure of the similarity of each user to the provided user_id\n",
    "                    num_interactions - the number of articles viewed by the user - if a u\n",
    "                    \n",
    "    Other Details - sort the neighbors_df by the similarity and then by number of interactions where \n",
    "                    highest of each is higher in the dataframe\n",
    "     \n",
    "    '''\n",
    "    # Your code here\n",
    "    \n",
    "    return neighbors_df # Return the dataframe specified in the doc_string\n",
    "\n",
    "\n",
    "def user_user_recs_part2(user_id, m=10):\n",
    "    '''\n",
    "    INPUT:\n",
    "    user_id - (int) a user id\n",
    "    m - (int) the number of recommendations you want for the user\n",
    "    \n",
    "    OUTPUT:\n",
    "    recs - (list) a list of recommendations for the user by article id\n",
    "    rec_names - (list) a list of recommendations for the user by article title\n",
    "    \n",
    "    Description:\n",
    "    Loops through the users based on closeness to the input user_id\n",
    "    For each user - finds articles the user hasn't seen before and provides them as recs\n",
    "    Does this until m recommendations are found\n",
    "    \n",
    "    Notes:\n",
    "    * Choose the users that have the most total article interactions \n",
    "    before choosing those with fewer article interactions.\n",
    "\n",
    "    * Choose articles with the articles with the most total interactions \n",
    "    before choosing those with fewer total interactions. \n",
    "   \n",
    "    '''\n",
    "    # Your code here\n",
    "    \n",
    "    return recs, rec_names"
   ]
  },
  {
   "cell_type": "code",
   "execution_count": null,
   "metadata": {
    "collapsed": true
   },
   "outputs": [],
   "source": [
    "# Quick spot check - don't change this code - just use it to test your functions\n",
    "rec_ids, rec_names = user_user_recs_part2(20, 10)\n",
    "print(\"The top 10 recommendations for user 20 are the following article ids:\")\n",
    "print(rec_ids)\n",
    "print()\n",
    "print(\"The top 10 recommendations for user 20 are the following article names:\")\n",
    "print(rec_names)"
   ]
  },
  {
   "cell_type": "markdown",
   "metadata": {},
   "source": [
    "`5.` Use your functions from above to correctly fill in the solutions to the dictionary below.  Then test your dictionary against the solution.  Provide the code you need to answer each following the comments below."
   ]
  },
  {
   "cell_type": "code",
   "execution_count": null,
   "metadata": {
    "collapsed": true
   },
   "outputs": [],
   "source": [
    "### Tests with a dictionary of results\n",
    "\n",
    "user1_most_sim = # Find the user that is most similar to user 1 \n",
    "user131_10th_sim = # Find the 10th most similar user to user 131"
   ]
  },
  {
   "cell_type": "code",
   "execution_count": null,
   "metadata": {
    "collapsed": true
   },
   "outputs": [],
   "source": [
    "## Dictionary Test Here\n",
    "sol_5_dict = {\n",
    "    'The user that is most similar to user 1.': user1_most_sim, \n",
    "    'The user that is the 10th most similar to user 131': user131_10th_sim,\n",
    "}\n",
    "\n",
    "t.sol_5_test(sol_5_dict)"
   ]
  },
  {
   "cell_type": "markdown",
   "metadata": {},
   "source": [
    "`6.` If we were given a new user, which of the above functions would you be able to use to make recommendations?  Explain.  Can you think of a better way we might make recommendations?  Use the cell below to explain a better method for new users."
   ]
  },
  {
   "cell_type": "markdown",
   "metadata": {},
   "source": [
    "**Provide your response here.**"
   ]
  },
  {
   "cell_type": "markdown",
   "metadata": {},
   "source": [
    "`7.` Using your existing functions, provide the top 10 recommended articles you would provide for the a new user below.  You can test your function against our thoughts to make sure we are all on the same page with how we might make a recommendation."
   ]
  },
  {
   "cell_type": "code",
   "execution_count": null,
   "metadata": {
    "collapsed": true
   },
   "outputs": [],
   "source": [
    "new_user = '0.0'\n",
    "\n",
    "# What would your recommendations be for this new user '0.0'?  As a new user, they have no observed articles.\n",
    "# Provide a list of the top 10 article ids you would give to \n",
    "new_user_recs = # Your recommendations here\n",
    "\n"
   ]
  },
  {
   "cell_type": "code",
   "execution_count": null,
   "metadata": {
    "collapsed": true
   },
   "outputs": [],
   "source": [
    "assert set(new_user_recs) == set(['1314.0','1429.0','1293.0','1427.0','1162.0','1364.0','1304.0','1170.0','1431.0','1330.0']), \"Oops!  It makes sense that in this case we would want to recommend the most popular articles, because we don't know anything about these users.\"\n",
    "\n",
    "print(\"That's right!  Nice job!\")"
   ]
  },
  {
   "cell_type": "markdown",
   "metadata": {},
   "source": [
    "### <a class=\"anchor\" id=\"Content-Recs\">Part IV: Content Based Recommendations (EXTRA - NOT REQUIRED)</a>\n",
    "\n",
    "Another method we might use to make recommendations is to perform a ranking of the highest ranked articles associated with some term.  You might consider content to be the **doc_body**, **doc_description**, or **doc_full_name**.  There isn't one way to create a content based recommendation, especially considering that each of these columns hold content related information.  \n",
    "\n",
    "`1.` Use the function body below to create a content based recommender.  Since there isn't one right answer for this recommendation tactic, no test functions are provided.  Feel free to change the function inputs if you decide you want to try a method that requires more input values.  The input values are currently set with one idea in mind that you may use to make content based recommendations.  One additional idea is that you might want to choose the most popular recommendations that meet your 'content criteria', but again, there is a lot of flexibility in how you might make these recommendations.\n",
    "\n",
    "### This part is NOT REQUIRED to pass this project.  However, you may choose to take this on as an extra way to show off your skills."
   ]
  },
  {
   "cell_type": "code",
   "execution_count": null,
   "metadata": {
    "collapsed": true
   },
   "outputs": [],
   "source": [
    "def make_content_recs():\n",
    "    '''\n",
    "    INPUT:\n",
    "    \n",
    "    OUTPUT:\n",
    "    \n",
    "    '''"
   ]
  },
  {
   "cell_type": "markdown",
   "metadata": {},
   "source": [
    "`2.` Now that you have put together your content-based recommendation system, use the cell below to write a summary explaining how your content based recommender works.  Do you see any possible improvements that could be made to your function?  Is there anything novel about your content based recommender?\n",
    "\n",
    "### This part is NOT REQUIRED to pass this project.  However, you may choose to take this on as an extra way to show off your skills."
   ]
  },
  {
   "cell_type": "markdown",
   "metadata": {},
   "source": [
    "**Write an explanation of your content based recommendation system here.**"
   ]
  },
  {
   "cell_type": "markdown",
   "metadata": {},
   "source": [
    "`3.` Use your content-recommendation system to make recommendations for the below scenarios based on the comments.  Again no tests are provided here, because there isn't one right answer that could be used to find these content based recommendations.\n",
    "\n",
    "### This part is NOT REQUIRED to pass this project.  However, you may choose to take this on as an extra way to show off your skills."
   ]
  },
  {
   "cell_type": "code",
   "execution_count": null,
   "metadata": {
    "collapsed": true
   },
   "outputs": [],
   "source": [
    "# make recommendations for a brand new user\n",
    "\n",
    "\n",
    "# make a recommendations for a user who only has interacted with article id '1427.0'\n",
    "\n"
   ]
  },
  {
   "cell_type": "markdown",
   "metadata": {},
   "source": [
    "### <a class=\"anchor\" id=\"Matrix-Fact\">Part V: Matrix Factorization</a>\n",
    "\n",
    "In this part of the notebook, you will build use matrix factorization to make article recommendations to the users on the IBM Watson Studio platform.\n",
    "\n",
    "`1.` You should have already created a **user_item** matrix above in **question 1** of **Part III** above.  This first question here will just require that you run the cells to get things set up for the rest of **Part V** of the notebook. "
   ]
  },
  {
   "cell_type": "code",
   "execution_count": null,
   "metadata": {
    "collapsed": true
   },
   "outputs": [],
   "source": [
    "# Load the matrix here\n",
    "user_item_matrix = pd.read_pickle('user_item_matrix.p')"
   ]
  },
  {
   "cell_type": "code",
   "execution_count": null,
   "metadata": {
    "collapsed": true
   },
   "outputs": [],
   "source": [
    "# quick look at the matrix\n",
    "user_item_matrix.head()"
   ]
  },
  {
   "cell_type": "markdown",
   "metadata": {},
   "source": [
    "`2.` In this situation, you can use Singular Value Decomposition from [numpy](https://docs.scipy.org/doc/numpy-1.14.0/reference/generated/numpy.linalg.svd.html) on the user-item matrix.  Use the cell to perform SVD, and explain why this is different than in the lesson."
   ]
  },
  {
   "cell_type": "code",
   "execution_count": null,
   "metadata": {
    "collapsed": true
   },
   "outputs": [],
   "source": [
    "# Perform SVD on the User-Item Matrix Here\n",
    "\n",
    "u, s, vt = # use the built in to get the three matrices"
   ]
  },
  {
   "cell_type": "markdown",
   "metadata": {},
   "source": [
    "**Provide your response here.**"
   ]
  },
  {
   "cell_type": "markdown",
   "metadata": {},
   "source": [
    "`3.` Now for the tricky part, how do we choose the number of latent features to use?  Running the below cell, you can see that as the number of latent features increases, we obtain a lower error rate on making predictions for the 1 and 0 values in the user-item matrix.  Run the cell below to get an idea of how the accuracy improves as we increase the number of latent features."
   ]
  },
  {
   "cell_type": "code",
   "execution_count": null,
   "metadata": {
    "collapsed": true
   },
   "outputs": [],
   "source": [
    "num_latent_feats = np.arange(10,700+10,20)\n",
    "sum_errs = []\n",
    "\n",
    "for k in num_latent_feats:\n",
    "    # restructure with k latent features\n",
    "    s_new, u_new, vt_new = np.diag(s[:k]), u[:, :k], vt[:k, :]\n",
    "    \n",
    "    # take dot product\n",
    "    user_item_est = np.around(np.dot(np.dot(u_new, s_new), vt_new))\n",
    "    \n",
    "    # compute error for each prediction to actual value\n",
    "    diffs = np.subtract(user_item_matrix, user_item_est)\n",
    "    \n",
    "    # total errors and keep track of them\n",
    "    err = np.sum(np.sum(np.abs(diffs)))\n",
    "    sum_errs.append(err)\n",
    "    \n",
    "    \n",
    "plt.plot(num_latent_feats, 1 - np.array(sum_errs)/df.shape[0]);\n",
    "plt.xlabel('Number of Latent Features');\n",
    "plt.ylabel('Accuracy');\n",
    "plt.title('Accuracy vs. Number of Latent Features');"
   ]
  },
  {
   "cell_type": "markdown",
   "metadata": {},
   "source": [
    "`4.` From the above, we can't really be sure how many features to use, because simply having a better way to predict the 1's and 0's of the matrix doesn't exactly give us an indication of if we are able to make good recommendations.  Instead, we might split our dataset into a training and test set of data, as shown in the cell below.  \n",
    "\n",
    "Use the code from question 3 to understand the impact on accuracy of the training and test sets of data with different numbers of latent features. Using the split below: \n",
    "\n",
    "* How many users can we make predictions for in the test set?  \n",
    "* How many users are we not able to make predictions for because of the cold start problem?\n",
    "* How many articles can we make predictions for in the test set?  \n",
    "* How many articles are we not able to make predictions for because of the cold start problem?"
   ]
  },
  {
   "cell_type": "code",
   "execution_count": null,
   "metadata": {
    "collapsed": true
   },
   "outputs": [],
   "source": [
    "df_train = df.head(40000)\n",
    "df_test = df.tail(5993)\n",
    "\n",
    "def create_test_and_train_user_item(df_train, df_test):\n",
    "    '''\n",
    "    INPUT:\n",
    "    df_train - training dataframe\n",
    "    df_test - test dataframe\n",
    "    \n",
    "    OUTPUT:\n",
    "    user_item_train - a user-item matrix of the training dataframe \n",
    "                      (unique users for each row and unique articles for each column)\n",
    "    user_item_test - a user-item matrix of the testing dataframe \n",
    "                    (unique users for each row and unique articles for each column)\n",
    "    test_idx - all of the test user ids\n",
    "    test_arts - all of the test article ids\n",
    "    \n",
    "    '''\n",
    "    # Your code here\n",
    "    \n",
    "    return user_item_train, user_item_test, test_idx, test_arts\n",
    "\n",
    "user_item_train, user_item_test, test_idx, test_arts = create_test_and_train_user_item(df_train, df_test)"
   ]
  },
  {
   "cell_type": "code",
   "execution_count": null,
   "metadata": {
    "collapsed": true
   },
   "outputs": [],
   "source": [
    "# Replace the values in the dictionary below\n",
    "a = 662 \n",
    "b = 574 \n",
    "c = 20 \n",
    "d = 0 \n",
    "\n",
    "\n",
    "sol_4_dict = {\n",
    "    'How many users can we make predictions for in the test set?': # letter here, \n",
    "    'How many users in the test set are we not able to make predictions for because of the cold start problem?': # letter here, \n",
    "    'How many articles can we make predictions for in the test set?': # letter here,\n",
    "    'How many articles in the test set are we not able to make predictions for because of the cold start problem?': # letter here\n",
    "}\n",
    "\n",
    "t.sol_4_test(sol_4_dict)"
   ]
  },
  {
   "cell_type": "markdown",
   "metadata": {},
   "source": [
    "`5.` Now use the **user_item_train** dataset from above to find U, S, and V transpose using SVD. Then find the subset of rows in the **user_item_test** dataset that you can predict using this matrix decomposition with different numbers of latent features to see how many features makes sense to keep based on the accuracy on the test data. This will require combining what was done in questions `2` - `4`.\n",
    "\n",
    "Use the cells below to explore how well SVD works towards making predictions for recommendations on the test data.  "
   ]
  },
  {
   "cell_type": "code",
   "execution_count": null,
   "metadata": {
    "collapsed": true
   },
   "outputs": [],
   "source": [
    "# fit SVD on the user_item_train matrix\n",
    "u_train, s_train, vt_train = # fit svd similar to above then use the cells below"
   ]
  },
  {
   "cell_type": "code",
   "execution_count": null,
   "metadata": {
    "collapsed": true
   },
   "outputs": [],
   "source": [
    "# Use these cells to see how well you can use the training \n",
    "# decomposition to predict on test data"
   ]
  },
  {
   "cell_type": "code",
   "execution_count": null,
   "metadata": {
    "collapsed": true
   },
   "outputs": [],
   "source": []
  },
  {
   "cell_type": "code",
   "execution_count": null,
   "metadata": {
    "collapsed": true
   },
   "outputs": [],
   "source": []
  },
  {
   "cell_type": "markdown",
   "metadata": {
    "collapsed": true
   },
   "source": [
    "`6.` Use the cell below to comment on the results you found in the previous question. Given the circumstances of your results, discuss what you might do to determine if the recommendations you make with any of the above recommendation systems are an improvement to how users currently find articles? "
   ]
  },
  {
   "cell_type": "markdown",
   "metadata": {},
   "source": [
    "**Your response here.**"
   ]
  },
  {
   "cell_type": "markdown",
   "metadata": {
    "collapsed": true
   },
   "source": [
    "<a id='conclusions'></a>\n",
    "### Extras\n",
    "Using your workbook, you could now save your recommendations for each user, develop a class to make new predictions and update your results, and make a flask app to deploy your results.  These tasks are beyond what is required for this project.  However, from what you learned in the lessons, you certainly capable of taking these tasks on to improve upon your work here!\n",
    "\n",
    "\n",
    "## Conclusion\n",
    "\n",
    "> Congratulations!  You have reached the end of the Recommendations with IBM project! \n",
    "\n",
    "> **Tip**: Once you are satisfied with your work here, check over your report to make sure that it is satisfies all the areas of the [rubric](https://review.udacity.com/#!/rubrics/2322/view). You should also probably remove all of the \"Tips\" like this one so that the presentation is as polished as possible.\n",
    "\n",
    "\n",
    "## Directions to Submit\n",
    "\n",
    "> Before you submit your project, you need to create a .html or .pdf version of this notebook in the workspace here. To do that, run the code cell below. If it worked correctly, you should get a return code of 0, and you should see the generated .html file in the workspace directory (click on the orange Jupyter icon in the upper left).\n",
    "\n",
    "> Alternatively, you can download this report as .html via the **File** > **Download as** submenu, and then manually upload it into the workspace directory by clicking on the orange Jupyter icon in the upper left, then using the Upload button.\n",
    "\n",
    "> Once you've done this, you can submit your project by clicking on the \"Submit Project\" button in the lower right here. This will create and submit a zip file with this .ipynb doc and the .html or .pdf version you created. Congratulations! "
   ]
  },
  {
   "cell_type": "code",
   "execution_count": null,
   "metadata": {
    "collapsed": true
   },
   "outputs": [],
   "source": [
    "from subprocess import call\n",
    "call(['python', '-m', 'nbconvert', 'Recommendations_with_IBM.ipynb'])"
   ]
  }
 ],
 "metadata": {
  "kernelspec": {
   "display_name": "Python 3",
   "language": "python",
   "name": "python3"
  },
  "language_info": {
   "codemirror_mode": {
    "name": "ipython",
    "version": 3
   },
   "file_extension": ".py",
   "mimetype": "text/x-python",
   "name": "python",
   "nbconvert_exporter": "python",
   "pygments_lexer": "ipython3",
   "version": "3.6.3"
  }
 },
 "nbformat": 4,
 "nbformat_minor": 2
}
